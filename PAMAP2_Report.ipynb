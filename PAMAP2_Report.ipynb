{
 "cells": [
  {
   "cell_type": "markdown",
   "id": "17dce7cc",
   "metadata": {},
   "source": [
    "# PAMPA2 HEARTRATE Vs CHEST TEMPERATURE ANALYSIS REPORT\n",
    "## DATA ANALYSIS by Jovito Thomas"
   ]
  },
  {
   "cell_type": "markdown",
   "id": "e7c147ff",
   "metadata": {},
   "source": [
    "### Contents\n",
    "#### 1.Overview\n",
    "\n",
    "#### 2.Preparatory Tasks\n",
    "\n",
    "#### 3.Data Cleaning\n",
    "\n",
    "#### 4.Exploratory Data Analysis\n",
    "\n",
    "#### 5.Data Correlation\n",
    "\n",
    "#### 6.Hypothesis Testing\n",
    "\n",
    "#### 7.Modelling\n",
    "\n",
    "#### 7.Decisions\n",
    "\n",
    "#### 8.Summary\n",
    "\n",
    "#### 9.References"
   ]
  },
  {
   "cell_type": "markdown",
   "id": "4db851a6",
   "metadata": {},
   "source": [
    "## 1) OVERVIEW"
   ]
  },
  {
   "cell_type": "markdown",
   "id": "554aa768",
   "metadata": {},
   "source": [
    "For this assignment, the dataset used is PAMAP2 which is a Activity Monitoring dataset which is covering 18 different physical activities which were taken by 9 different subjects, 8 men and 1 woman, the measurements were taken using 3 inertial measurement units and a heart rate monitor.\n",
    "\n",
    "The main aim of this assignment would be to derive an insight from the dataset provided such that it can be used to create a software or a hardware which can be used to predict the type of the activities performed by the subjects.\n",
    "\n",
    "There are three requirements for this assignment they are as follows:\n",
    "\n",
    "Carrying out thorough exploratory data analysis and properly handling missing or dirty data.\n",
    "\n",
    "Developing and testing at least one hypothesis for a relationship between a single pair of attributes.\n",
    "\n",
    "Developing and testing at least one model which uses multiple attributes to make predictions."
   ]
  },
  {
   "cell_type": "markdown",
   "id": "91336662",
   "metadata": {},
   "source": [
    "## 2) DATA LOADING/ PREPARATORY TASKS"
   ]
  },
  {
   "cell_type": "code",
   "execution_count": 1,
   "id": "f6781133",
   "metadata": {},
   "outputs": [],
   "source": [
    "from matplotlib import pyplot as plt\n",
    "%matplotlib inline\n",
    "import pandas as pd\n",
    "import numpy as np\n",
    "import math\n",
    "from sklearn.model_selection import train_test_split\n",
    "import scipy.stats"
   ]
  },
  {
   "cell_type": "markdown",
   "id": "29de6994",
   "metadata": {},
   "source": [
    "*) We would need a list of the file names to be created in order to load all the files and create the dataframe.\n",
    "\n",
    "*) we would also be required to create a dictionary that will hold the names as well as numbers of each different activity.\n",
    "\n",
    "*) Lists for each different category of IMU's should be put together in order to have the column names for the dataframe. IMU's that will be used are for chest, ankle and hand.\n",
    "\n",
    "*) The last step is to put together all the different lists to create the collection of the columns."
   ]
  },
  {
   "cell_type": "code",
   "execution_count": 2,
   "id": "92e45ff6",
   "metadata": {},
   "outputs": [],
   "source": [
    "list_of_files = ['PAMAP2_Dataset/Protocol/subject101.dat',\n",
    "                 'PAMAP2_Dataset/Protocol/subject102.dat',\n",
    "                 'PAMAP2_Dataset/Protocol/subject103.dat',\n",
    "                 'PAMAP2_Dataset/Protocol/subject104.dat',\n",
    "                 'PAMAP2_Dataset/Protocol/subject105.dat',\n",
    "                 'PAMAP2_Dataset/Protocol/subject106.dat',\n",
    "                 'PAMAP2_Dataset/Protocol/subject107.dat',\n",
    "                 'PAMAP2_Dataset/Protocol/subject108.dat',\n",
    "                 'PAMAP2_Dataset/Protocol/subject109.dat' ]"
   ]
  },
  {
   "cell_type": "code",
   "execution_count": 3,
   "id": "b5c189f8",
   "metadata": {},
   "outputs": [],
   "source": [
    "subject_ID = [1,2,3,4,5,6,7,8,9]\n",
    "\n",
    "activity_ID_dict = {0: 'transient',\n",
    "              1: 'lying',\n",
    "              2: 'sitting',\n",
    "              3: 'standing',\n",
    "              4: 'walking',\n",
    "              5: 'running',\n",
    "              6: 'cycling',\n",
    "              7: 'Nordic_walking',\n",
    "              9: 'watching_TV',\n",
    "              10: 'computer_work',\n",
    "              11: 'car driving',\n",
    "              12: 'ascending_stairs',\n",
    "              13: 'descending_stairs',\n",
    "              16: 'vacuum_cleaning',\n",
    "              17: 'ironing',\n",
    "              18: 'folding_laundry',\n",
    "              19: 'house_cleaning',\n",
    "              20: 'playing_soccer',\n",
    "              24: 'rope_jumping' }\n",
    "\n",
    "columNames = [\"time_stamp\", \"activity_ID\",\"heartrate\"]\n",
    "\n",
    "IMU_hand = ['hand_Temperature', \n",
    "           'handAcc16_1', 'handAcc16_2', 'handAcc16_3', \n",
    "           'handAcc6_1', 'handAcc6_2', 'handAcc6_3', \n",
    "           'handGyro1', 'handGyro2', 'handGyro3', \n",
    "           'handMagne1', 'handMagne2', 'handMagne3',\n",
    "           'hand_Orntn1', 'hand_Orntn2', 'hand_Orntn3', 'hand_Orntn4']\n",
    "\n",
    "IMU_chest = ['chest_Temperature', \n",
    "           'chestAcc16_1', 'chestAcc16_2', 'chestAcc16_3', \n",
    "           'chestAcc6_1', 'chestAcc6_2', 'chestAcc6_3', \n",
    "           'chestGyro1', 'chestGyro2', 'chestGyro3', \n",
    "           'chestMagne1', 'chestMagne2', 'chestMagne3',\n",
    "           'chest_Orntn1', 'chest_Orntn2', 'chest_Orntn3', 'chest_Orntn4']\n",
    "\n",
    "IMU_ankle = ['ankle_Temperature', \n",
    "           'ankleAcc16_1', 'ankleAcc16_2', 'ankleAcc16_3', \n",
    "           'ankleAcc6_1', 'ankleAcc6_2', 'ankleAcc6_3', \n",
    "           'ankleGyro1', 'ankleGyro2', 'ankleGyro3', \n",
    "           'ankleMagne1', 'ankleMagne2', 'ankleMagne3',\n",
    "           'ankle_Orntn1', 'ankle_Orntn2', 'ankle_Orntn3', 'ankle_Orntn4']\n",
    "\n",
    "columns = columNames + IMU_hand + IMU_chest + IMU_ankle  #all columns in one list\n"
   ]
  },
  {
   "cell_type": "code",
   "execution_count": 4,
   "id": "a3db5859",
   "metadata": {
    "scrolled": true
   },
   "outputs": [
    {
     "name": "stderr",
     "output_type": "stream",
     "text": [
      "C:\\Users\\HP\\AppData\\Local\\Temp\\ipykernel_20176\\2881482827.py:6: FutureWarning: The frame.append method is deprecated and will be removed from pandas in a future version. Use pandas.concat instead.\n",
      "  Consolidated_data = Consolidated_data.append(proto_Data, ignore_index=True)\n",
      "C:\\Users\\HP\\AppData\\Local\\Temp\\ipykernel_20176\\2881482827.py:6: FutureWarning: The frame.append method is deprecated and will be removed from pandas in a future version. Use pandas.concat instead.\n",
      "  Consolidated_data = Consolidated_data.append(proto_Data, ignore_index=True)\n",
      "C:\\Users\\HP\\AppData\\Local\\Temp\\ipykernel_20176\\2881482827.py:6: FutureWarning: The frame.append method is deprecated and will be removed from pandas in a future version. Use pandas.concat instead.\n",
      "  Consolidated_data = Consolidated_data.append(proto_Data, ignore_index=True)\n",
      "C:\\Users\\HP\\AppData\\Local\\Temp\\ipykernel_20176\\2881482827.py:6: FutureWarning: The frame.append method is deprecated and will be removed from pandas in a future version. Use pandas.concat instead.\n",
      "  Consolidated_data = Consolidated_data.append(proto_Data, ignore_index=True)\n",
      "C:\\Users\\HP\\AppData\\Local\\Temp\\ipykernel_20176\\2881482827.py:6: FutureWarning: The frame.append method is deprecated and will be removed from pandas in a future version. Use pandas.concat instead.\n",
      "  Consolidated_data = Consolidated_data.append(proto_Data, ignore_index=True)\n",
      "C:\\Users\\HP\\AppData\\Local\\Temp\\ipykernel_20176\\2881482827.py:6: FutureWarning: The frame.append method is deprecated and will be removed from pandas in a future version. Use pandas.concat instead.\n",
      "  Consolidated_data = Consolidated_data.append(proto_Data, ignore_index=True)\n",
      "C:\\Users\\HP\\AppData\\Local\\Temp\\ipykernel_20176\\2881482827.py:6: FutureWarning: The frame.append method is deprecated and will be removed from pandas in a future version. Use pandas.concat instead.\n",
      "  Consolidated_data = Consolidated_data.append(proto_Data, ignore_index=True)\n",
      "C:\\Users\\HP\\AppData\\Local\\Temp\\ipykernel_20176\\2881482827.py:6: FutureWarning: The frame.append method is deprecated and will be removed from pandas in a future version. Use pandas.concat instead.\n",
      "  Consolidated_data = Consolidated_data.append(proto_Data, ignore_index=True)\n",
      "C:\\Users\\HP\\AppData\\Local\\Temp\\ipykernel_20176\\2881482827.py:6: FutureWarning: The frame.append method is deprecated and will be removed from pandas in a future version. Use pandas.concat instead.\n",
      "  Consolidated_data = Consolidated_data.append(proto_Data, ignore_index=True)\n"
     ]
    }
   ],
   "source": [
    "Consolidated_data = pd.DataFrame()  # Loading the files and consolidating the data into a single dataset\n",
    "for file in list_of_files:\n",
    "    proto_Data = pd.read_table(file, header=None, sep='\\s+')\n",
    "    proto_Data.columns = columns\n",
    "    proto_Data['subject_id'] = int(file[-5])\n",
    "    Consolidated_data = Consolidated_data.append(proto_Data, ignore_index=True)\n",
    "\n",
    "Consolidated_data.reset_index(drop=True, inplace=True)"
   ]
  },
  {
   "cell_type": "code",
   "execution_count": 5,
   "id": "dd650c60",
   "metadata": {},
   "outputs": [
    {
     "data": {
      "text/html": [
       "<div>\n",
       "<style scoped>\n",
       "    .dataframe tbody tr th:only-of-type {\n",
       "        vertical-align: middle;\n",
       "    }\n",
       "\n",
       "    .dataframe tbody tr th {\n",
       "        vertical-align: top;\n",
       "    }\n",
       "\n",
       "    .dataframe thead th {\n",
       "        text-align: right;\n",
       "    }\n",
       "</style>\n",
       "<table border=\"1\" class=\"dataframe\">\n",
       "  <thead>\n",
       "    <tr style=\"text-align: right;\">\n",
       "      <th></th>\n",
       "      <th>time_stamp</th>\n",
       "      <th>activity_ID</th>\n",
       "      <th>heartrate</th>\n",
       "      <th>hand_Temperature</th>\n",
       "      <th>handAcc16_1</th>\n",
       "      <th>handAcc16_2</th>\n",
       "      <th>handAcc16_3</th>\n",
       "      <th>handAcc6_1</th>\n",
       "      <th>handAcc6_2</th>\n",
       "      <th>handAcc6_3</th>\n",
       "      <th>...</th>\n",
       "      <th>ankleGyro2</th>\n",
       "      <th>ankleGyro3</th>\n",
       "      <th>ankleMagne1</th>\n",
       "      <th>ankleMagne2</th>\n",
       "      <th>ankleMagne3</th>\n",
       "      <th>ankle_Orntn1</th>\n",
       "      <th>ankle_Orntn2</th>\n",
       "      <th>ankle_Orntn3</th>\n",
       "      <th>ankle_Orntn4</th>\n",
       "      <th>subject_id</th>\n",
       "    </tr>\n",
       "  </thead>\n",
       "  <tbody>\n",
       "    <tr>\n",
       "      <th>0</th>\n",
       "      <td>8.38</td>\n",
       "      <td>0</td>\n",
       "      <td>104.0</td>\n",
       "      <td>30.0</td>\n",
       "      <td>2.37223</td>\n",
       "      <td>8.60074</td>\n",
       "      <td>3.51048</td>\n",
       "      <td>2.43954</td>\n",
       "      <td>8.76165</td>\n",
       "      <td>3.35465</td>\n",
       "      <td>...</td>\n",
       "      <td>0.009250</td>\n",
       "      <td>-0.017580</td>\n",
       "      <td>-61.1888</td>\n",
       "      <td>-38.9599</td>\n",
       "      <td>-58.1438</td>\n",
       "      <td>1.0</td>\n",
       "      <td>0.0</td>\n",
       "      <td>0.0</td>\n",
       "      <td>0.0</td>\n",
       "      <td>1</td>\n",
       "    </tr>\n",
       "    <tr>\n",
       "      <th>1</th>\n",
       "      <td>8.39</td>\n",
       "      <td>0</td>\n",
       "      <td>NaN</td>\n",
       "      <td>30.0</td>\n",
       "      <td>2.18837</td>\n",
       "      <td>8.56560</td>\n",
       "      <td>3.66179</td>\n",
       "      <td>2.39494</td>\n",
       "      <td>8.55081</td>\n",
       "      <td>3.64207</td>\n",
       "      <td>...</td>\n",
       "      <td>-0.004638</td>\n",
       "      <td>0.000368</td>\n",
       "      <td>-59.8479</td>\n",
       "      <td>-38.8919</td>\n",
       "      <td>-58.5253</td>\n",
       "      <td>1.0</td>\n",
       "      <td>0.0</td>\n",
       "      <td>0.0</td>\n",
       "      <td>0.0</td>\n",
       "      <td>1</td>\n",
       "    </tr>\n",
       "    <tr>\n",
       "      <th>2</th>\n",
       "      <td>8.40</td>\n",
       "      <td>0</td>\n",
       "      <td>NaN</td>\n",
       "      <td>30.0</td>\n",
       "      <td>2.37357</td>\n",
       "      <td>8.60107</td>\n",
       "      <td>3.54898</td>\n",
       "      <td>2.30514</td>\n",
       "      <td>8.53644</td>\n",
       "      <td>3.73280</td>\n",
       "      <td>...</td>\n",
       "      <td>0.000148</td>\n",
       "      <td>0.022495</td>\n",
       "      <td>-60.7361</td>\n",
       "      <td>-39.4138</td>\n",
       "      <td>-58.3999</td>\n",
       "      <td>1.0</td>\n",
       "      <td>0.0</td>\n",
       "      <td>0.0</td>\n",
       "      <td>0.0</td>\n",
       "      <td>1</td>\n",
       "    </tr>\n",
       "    <tr>\n",
       "      <th>3</th>\n",
       "      <td>8.41</td>\n",
       "      <td>0</td>\n",
       "      <td>NaN</td>\n",
       "      <td>30.0</td>\n",
       "      <td>2.07473</td>\n",
       "      <td>8.52853</td>\n",
       "      <td>3.66021</td>\n",
       "      <td>2.33528</td>\n",
       "      <td>8.53622</td>\n",
       "      <td>3.73277</td>\n",
       "      <td>...</td>\n",
       "      <td>-0.020301</td>\n",
       "      <td>0.011275</td>\n",
       "      <td>-60.4091</td>\n",
       "      <td>-38.7635</td>\n",
       "      <td>-58.3956</td>\n",
       "      <td>1.0</td>\n",
       "      <td>0.0</td>\n",
       "      <td>0.0</td>\n",
       "      <td>0.0</td>\n",
       "      <td>1</td>\n",
       "    </tr>\n",
       "    <tr>\n",
       "      <th>4</th>\n",
       "      <td>8.42</td>\n",
       "      <td>0</td>\n",
       "      <td>NaN</td>\n",
       "      <td>30.0</td>\n",
       "      <td>2.22936</td>\n",
       "      <td>8.83122</td>\n",
       "      <td>3.70000</td>\n",
       "      <td>2.23055</td>\n",
       "      <td>8.59741</td>\n",
       "      <td>3.76295</td>\n",
       "      <td>...</td>\n",
       "      <td>-0.014303</td>\n",
       "      <td>-0.002823</td>\n",
       "      <td>-61.5199</td>\n",
       "      <td>-39.3879</td>\n",
       "      <td>-58.2694</td>\n",
       "      <td>1.0</td>\n",
       "      <td>0.0</td>\n",
       "      <td>0.0</td>\n",
       "      <td>0.0</td>\n",
       "      <td>1</td>\n",
       "    </tr>\n",
       "  </tbody>\n",
       "</table>\n",
       "<p>5 rows × 55 columns</p>\n",
       "</div>"
      ],
      "text/plain": [
       "   time_stamp  activity_ID  heartrate  hand_Temperature  handAcc16_1  \\\n",
       "0        8.38            0      104.0              30.0      2.37223   \n",
       "1        8.39            0        NaN              30.0      2.18837   \n",
       "2        8.40            0        NaN              30.0      2.37357   \n",
       "3        8.41            0        NaN              30.0      2.07473   \n",
       "4        8.42            0        NaN              30.0      2.22936   \n",
       "\n",
       "   handAcc16_2  handAcc16_3  handAcc6_1  handAcc6_2  handAcc6_3  ...  \\\n",
       "0      8.60074      3.51048     2.43954     8.76165     3.35465  ...   \n",
       "1      8.56560      3.66179     2.39494     8.55081     3.64207  ...   \n",
       "2      8.60107      3.54898     2.30514     8.53644     3.73280  ...   \n",
       "3      8.52853      3.66021     2.33528     8.53622     3.73277  ...   \n",
       "4      8.83122      3.70000     2.23055     8.59741     3.76295  ...   \n",
       "\n",
       "   ankleGyro2  ankleGyro3  ankleMagne1  ankleMagne2  ankleMagne3  \\\n",
       "0    0.009250   -0.017580     -61.1888     -38.9599     -58.1438   \n",
       "1   -0.004638    0.000368     -59.8479     -38.8919     -58.5253   \n",
       "2    0.000148    0.022495     -60.7361     -39.4138     -58.3999   \n",
       "3   -0.020301    0.011275     -60.4091     -38.7635     -58.3956   \n",
       "4   -0.014303   -0.002823     -61.5199     -39.3879     -58.2694   \n",
       "\n",
       "   ankle_Orntn1  ankle_Orntn2  ankle_Orntn3  ankle_Orntn4  subject_id  \n",
       "0           1.0           0.0           0.0           0.0           1  \n",
       "1           1.0           0.0           0.0           0.0           1  \n",
       "2           1.0           0.0           0.0           0.0           1  \n",
       "3           1.0           0.0           0.0           0.0           1  \n",
       "4           1.0           0.0           0.0           0.0           1  \n",
       "\n",
       "[5 rows x 55 columns]"
      ]
     },
     "execution_count": 5,
     "metadata": {},
     "output_type": "execute_result"
    }
   ],
   "source": [
    "Consolidated_data.head()"
   ]
  },
  {
   "cell_type": "markdown",
   "id": "34b236b6",
   "metadata": {},
   "source": [
    "## 3) Data cleaning"
   ]
  },
  {
   "cell_type": "markdown",
   "id": "1bf5d837",
   "metadata": {},
   "source": [
    "By going through the PerformedActivitiesSummary file and examining the consolidated dataset the following details were observed:\n",
    "\n",
    "*) various data is missing and the readme file provided mentions there were some wireless disconnections in data collection. This has to be accounted for and made up in a way that it wont impact the analysis.\n",
    "\n",
    "*) Each different activity has 8 or less subjects who did the activity and each different activity has NaN values for different subjects. Hence we would require some data filling.\n",
    "\n",
    "*) There are NaN values in our data, it is best to use interpolate which is constructing a new data point out of a set of known data points. This would be most suitable in this scenario\n",
    "\n",
    "I could also understand that activities with activity_ID = 0 are actually unusable for our analysis as it doesnt contain any significant data related to the activites performed by the subjects. Hence i would have to remove those as it would be very noisy and would impact our further analysis on the subject."
   ]
  },
  {
   "cell_type": "code",
   "execution_count": 6,
   "id": "e9b3ca60",
   "metadata": {},
   "outputs": [],
   "source": [
    "def cleansor(Consolidated_data):\n",
    "        Consolidated_data = Consolidated_data.drop(['hand_Orntn1', 'hand_Orntn2', 'hand_Orntn3', 'hand_Orntn4',\n",
    "                                             'chest_Orntn1', 'chest_Orntn2', 'chest_Orntn3', 'chest_Orntn4',\n",
    "                                             'ankle_Orntn1', 'ankle_Orntn2', 'ankle_Orntn3', 'ankle_Orntn4'],\n",
    "                                             axis = 1)  # removal of orientation columns as they are not needed\n",
    "        Consolidated_data = Consolidated_data.drop(Consolidated_data[Consolidated_data.activity_ID == 0].index) #removal of any row of activity 0 as it is transient activity which it is not used\n",
    "        Consolidated_data = Consolidated_data.apply(pd.to_numeric) #removal of non numeric data in cells\n",
    "        Consolidated_data = Consolidated_data.interpolate() #removal of any remaining NaN value cells by constructing new data points in known set of data points\n",
    "        \n",
    "        return Consolidated_data"
   ]
  },
  {
   "cell_type": "code",
   "execution_count": 7,
   "id": "5140674e",
   "metadata": {},
   "outputs": [],
   "source": [
    "Cleaned_data = cleansor(Consolidated_data)"
   ]
  },
  {
   "cell_type": "code",
   "execution_count": 8,
   "id": "da12e7b1",
   "metadata": {},
   "outputs": [],
   "source": [
    "Cleaned_data.reset_index(drop = True, inplace = True)\n"
   ]
  },
  {
   "cell_type": "code",
   "execution_count": 9,
   "id": "40d646f2",
   "metadata": {},
   "outputs": [
    {
     "data": {
      "text/plain": [
       "0       NaN\n",
       "1       NaN\n",
       "2       NaN\n",
       "3       NaN\n",
       "4     100.0\n",
       "5     100.0\n",
       "6     100.0\n",
       "7     100.0\n",
       "8     100.0\n",
       "9     100.0\n",
       "10    100.0\n",
       "11    100.0\n",
       "12    100.0\n",
       "13    100.0\n",
       "14    100.0\n",
       "15    100.0\n",
       "16    100.0\n",
       "17    100.0\n",
       "18    100.0\n",
       "19    100.0\n",
       "Name: heartrate, dtype: float64"
      ]
     },
     "execution_count": 9,
     "metadata": {},
     "output_type": "execute_result"
    }
   ],
   "source": [
    "Cleaned_data['heartrate'].head(20) #Checking if the values after the first 4 values are 100."
   ]
  },
  {
   "cell_type": "markdown",
   "id": "3f47b92b",
   "metadata": {},
   "source": [
    "Heartrate still has NaN values because interpolation calculates the values around the NaN cell. Since the first cells are NaN it would be normal to generate new NaN values after interpolation.\n",
    "\n",
    "In order to overcome this problem we are going to assume that the value of the first 4 cells as 100 since the values after the index 4 is 100. this will help in eliminating any NaN values from our dataset."
   ]
  },
  {
   "cell_type": "code",
   "execution_count": 10,
   "id": "d64101cd",
   "metadata": {},
   "outputs": [
    {
     "name": "stderr",
     "output_type": "stream",
     "text": [
      "C:\\Users\\HP\\AppData\\Local\\Temp\\ipykernel_20176\\1950562988.py:2: SettingWithCopyWarning: \n",
      "A value is trying to be set on a copy of a slice from a DataFrame\n",
      "\n",
      "See the caveats in the documentation: https://pandas.pydata.org/pandas-docs/stable/user_guide/indexing.html#returning-a-view-versus-a-copy\n",
      "  Cleaned_data[\"heartrate\"].iloc[i]=100\n"
     ]
    }
   ],
   "source": [
    "for i in range(0,4):\n",
    "    Cleaned_data[\"heartrate\"].iloc[i]=100"
   ]
  },
  {
   "cell_type": "markdown",
   "id": "0adafacf",
   "metadata": {},
   "source": [
    "converting the first 4 values into 100"
   ]
  },
  {
   "cell_type": "code",
   "execution_count": 11,
   "id": "77f21224",
   "metadata": {},
   "outputs": [
    {
     "data": {
      "text/html": [
       "<div>\n",
       "<style scoped>\n",
       "    .dataframe tbody tr th:only-of-type {\n",
       "        vertical-align: middle;\n",
       "    }\n",
       "\n",
       "    .dataframe tbody tr th {\n",
       "        vertical-align: top;\n",
       "    }\n",
       "\n",
       "    .dataframe thead th {\n",
       "        text-align: right;\n",
       "    }\n",
       "</style>\n",
       "<table border=\"1\" class=\"dataframe\">\n",
       "  <thead>\n",
       "    <tr style=\"text-align: right;\">\n",
       "      <th></th>\n",
       "      <th>time_stamp</th>\n",
       "      <th>activity_ID</th>\n",
       "      <th>heartrate</th>\n",
       "      <th>hand_Temperature</th>\n",
       "      <th>handAcc16_1</th>\n",
       "      <th>handAcc16_2</th>\n",
       "      <th>handAcc16_3</th>\n",
       "      <th>handAcc6_1</th>\n",
       "      <th>handAcc6_2</th>\n",
       "      <th>handAcc6_3</th>\n",
       "      <th>...</th>\n",
       "      <th>ankleAcc6_1</th>\n",
       "      <th>ankleAcc6_2</th>\n",
       "      <th>ankleAcc6_3</th>\n",
       "      <th>ankleGyro1</th>\n",
       "      <th>ankleGyro2</th>\n",
       "      <th>ankleGyro3</th>\n",
       "      <th>ankleMagne1</th>\n",
       "      <th>ankleMagne2</th>\n",
       "      <th>ankleMagne3</th>\n",
       "      <th>subject_id</th>\n",
       "    </tr>\n",
       "  </thead>\n",
       "  <tbody>\n",
       "    <tr>\n",
       "      <th>0</th>\n",
       "      <td>37.66</td>\n",
       "      <td>1</td>\n",
       "      <td>100.0</td>\n",
       "      <td>30.375</td>\n",
       "      <td>2.21530</td>\n",
       "      <td>8.27915</td>\n",
       "      <td>5.58753</td>\n",
       "      <td>2.24689</td>\n",
       "      <td>8.55387</td>\n",
       "      <td>5.77143</td>\n",
       "      <td>...</td>\n",
       "      <td>9.63162</td>\n",
       "      <td>-1.76757</td>\n",
       "      <td>0.265761</td>\n",
       "      <td>0.002908</td>\n",
       "      <td>-0.027714</td>\n",
       "      <td>0.001752</td>\n",
       "      <td>-61.1081</td>\n",
       "      <td>-36.8636</td>\n",
       "      <td>-58.3696</td>\n",
       "      <td>1</td>\n",
       "    </tr>\n",
       "    <tr>\n",
       "      <th>1</th>\n",
       "      <td>37.67</td>\n",
       "      <td>1</td>\n",
       "      <td>100.0</td>\n",
       "      <td>30.375</td>\n",
       "      <td>2.29196</td>\n",
       "      <td>7.67288</td>\n",
       "      <td>5.74467</td>\n",
       "      <td>2.27373</td>\n",
       "      <td>8.14592</td>\n",
       "      <td>5.78739</td>\n",
       "      <td>...</td>\n",
       "      <td>9.58649</td>\n",
       "      <td>-1.75247</td>\n",
       "      <td>0.250816</td>\n",
       "      <td>0.020882</td>\n",
       "      <td>0.000945</td>\n",
       "      <td>0.006007</td>\n",
       "      <td>-60.8916</td>\n",
       "      <td>-36.3197</td>\n",
       "      <td>-58.3656</td>\n",
       "      <td>1</td>\n",
       "    </tr>\n",
       "    <tr>\n",
       "      <th>2</th>\n",
       "      <td>37.68</td>\n",
       "      <td>1</td>\n",
       "      <td>100.0</td>\n",
       "      <td>30.375</td>\n",
       "      <td>2.29090</td>\n",
       "      <td>7.14240</td>\n",
       "      <td>5.82342</td>\n",
       "      <td>2.26966</td>\n",
       "      <td>7.66268</td>\n",
       "      <td>5.78846</td>\n",
       "      <td>...</td>\n",
       "      <td>9.60196</td>\n",
       "      <td>-1.73721</td>\n",
       "      <td>0.356632</td>\n",
       "      <td>-0.035392</td>\n",
       "      <td>-0.052422</td>\n",
       "      <td>-0.004882</td>\n",
       "      <td>-60.3407</td>\n",
       "      <td>-35.7842</td>\n",
       "      <td>-58.6119</td>\n",
       "      <td>1</td>\n",
       "    </tr>\n",
       "    <tr>\n",
       "      <th>3</th>\n",
       "      <td>37.69</td>\n",
       "      <td>1</td>\n",
       "      <td>100.0</td>\n",
       "      <td>30.375</td>\n",
       "      <td>2.21800</td>\n",
       "      <td>7.14365</td>\n",
       "      <td>5.89930</td>\n",
       "      <td>2.22177</td>\n",
       "      <td>7.25535</td>\n",
       "      <td>5.88000</td>\n",
       "      <td>...</td>\n",
       "      <td>9.58674</td>\n",
       "      <td>-1.78264</td>\n",
       "      <td>0.311453</td>\n",
       "      <td>-0.032514</td>\n",
       "      <td>-0.018844</td>\n",
       "      <td>0.026950</td>\n",
       "      <td>-60.7646</td>\n",
       "      <td>-37.1028</td>\n",
       "      <td>-57.8799</td>\n",
       "      <td>1</td>\n",
       "    </tr>\n",
       "    <tr>\n",
       "      <th>4</th>\n",
       "      <td>37.70</td>\n",
       "      <td>1</td>\n",
       "      <td>100.0</td>\n",
       "      <td>30.375</td>\n",
       "      <td>2.30106</td>\n",
       "      <td>7.25857</td>\n",
       "      <td>6.09259</td>\n",
       "      <td>2.20720</td>\n",
       "      <td>7.24042</td>\n",
       "      <td>5.95555</td>\n",
       "      <td>...</td>\n",
       "      <td>9.64677</td>\n",
       "      <td>-1.75240</td>\n",
       "      <td>0.295902</td>\n",
       "      <td>0.001351</td>\n",
       "      <td>-0.048878</td>\n",
       "      <td>-0.006328</td>\n",
       "      <td>-60.2040</td>\n",
       "      <td>-37.1225</td>\n",
       "      <td>-57.8847</td>\n",
       "      <td>1</td>\n",
       "    </tr>\n",
       "  </tbody>\n",
       "</table>\n",
       "<p>5 rows × 43 columns</p>\n",
       "</div>"
      ],
      "text/plain": [
       "   time_stamp  activity_ID  heartrate  hand_Temperature  handAcc16_1  \\\n",
       "0       37.66            1      100.0            30.375      2.21530   \n",
       "1       37.67            1      100.0            30.375      2.29196   \n",
       "2       37.68            1      100.0            30.375      2.29090   \n",
       "3       37.69            1      100.0            30.375      2.21800   \n",
       "4       37.70            1      100.0            30.375      2.30106   \n",
       "\n",
       "   handAcc16_2  handAcc16_3  handAcc6_1  handAcc6_2  handAcc6_3  ...  \\\n",
       "0      8.27915      5.58753     2.24689     8.55387     5.77143  ...   \n",
       "1      7.67288      5.74467     2.27373     8.14592     5.78739  ...   \n",
       "2      7.14240      5.82342     2.26966     7.66268     5.78846  ...   \n",
       "3      7.14365      5.89930     2.22177     7.25535     5.88000  ...   \n",
       "4      7.25857      6.09259     2.20720     7.24042     5.95555  ...   \n",
       "\n",
       "   ankleAcc6_1  ankleAcc6_2  ankleAcc6_3  ankleGyro1  ankleGyro2  ankleGyro3  \\\n",
       "0      9.63162     -1.76757     0.265761    0.002908   -0.027714    0.001752   \n",
       "1      9.58649     -1.75247     0.250816    0.020882    0.000945    0.006007   \n",
       "2      9.60196     -1.73721     0.356632   -0.035392   -0.052422   -0.004882   \n",
       "3      9.58674     -1.78264     0.311453   -0.032514   -0.018844    0.026950   \n",
       "4      9.64677     -1.75240     0.295902    0.001351   -0.048878   -0.006328   \n",
       "\n",
       "   ankleMagne1  ankleMagne2  ankleMagne3  subject_id  \n",
       "0     -61.1081     -36.8636     -58.3696           1  \n",
       "1     -60.8916     -36.3197     -58.3656           1  \n",
       "2     -60.3407     -35.7842     -58.6119           1  \n",
       "3     -60.7646     -37.1028     -57.8799           1  \n",
       "4     -60.2040     -37.1225     -57.8847           1  \n",
       "\n",
       "[5 rows x 43 columns]"
      ]
     },
     "execution_count": 11,
     "metadata": {},
     "output_type": "execute_result"
    }
   ],
   "source": [
    "Cleaned_data.head()"
   ]
  },
  {
   "cell_type": "code",
   "execution_count": 12,
   "id": "545dd70f",
   "metadata": {},
   "outputs": [
    {
     "data": {
      "text/plain": [
       "time_stamp           0\n",
       "activity_ID          0\n",
       "heartrate            0\n",
       "hand_Temperature     0\n",
       "handAcc16_1          0\n",
       "handAcc16_2          0\n",
       "handAcc16_3          0\n",
       "handAcc6_1           0\n",
       "handAcc6_2           0\n",
       "handAcc6_3           0\n",
       "handGyro1            0\n",
       "handGyro2            0\n",
       "handGyro3            0\n",
       "handMagne1           0\n",
       "handMagne2           0\n",
       "handMagne3           0\n",
       "chest_Temperature    0\n",
       "chestAcc16_1         0\n",
       "chestAcc16_2         0\n",
       "chestAcc16_3         0\n",
       "chestAcc6_1          0\n",
       "chestAcc6_2          0\n",
       "chestAcc6_3          0\n",
       "chestGyro1           0\n",
       "chestGyro2           0\n",
       "chestGyro3           0\n",
       "chestMagne1          0\n",
       "chestMagne2          0\n",
       "chestMagne3          0\n",
       "ankle_Temperature    0\n",
       "ankleAcc16_1         0\n",
       "ankleAcc16_2         0\n",
       "ankleAcc16_3         0\n",
       "ankleAcc6_1          0\n",
       "ankleAcc6_2          0\n",
       "ankleAcc6_3          0\n",
       "ankleGyro1           0\n",
       "ankleGyro2           0\n",
       "ankleGyro3           0\n",
       "ankleMagne1          0\n",
       "ankleMagne2          0\n",
       "ankleMagne3          0\n",
       "subject_id           0\n",
       "dtype: int64"
      ]
     },
     "execution_count": 12,
     "metadata": {},
     "output_type": "execute_result"
    }
   ],
   "source": [
    "Cleaned_data.isnull().sum() #Double checking if there are no NaN values left in the dataset"
   ]
  },
  {
   "cell_type": "markdown",
   "id": "d9167b23",
   "metadata": {},
   "source": [
    "## 4) EXPLORATORY DATA ANALYSIS"
   ]
  },
  {
   "cell_type": "markdown",
   "id": "ac6bdb28",
   "metadata": {},
   "source": [
    "Before splitting our data, we need to check if the classes are balanced which would mean there is no requirment for stratification in our split. \n",
    "\n",
    "If classes weights are unbalanced, we should proceed with stratifying while splitting the data. Stratified sampling is the process of taking samples from all classes and putting them on the sub-sets created for train and test sets.\n",
    "\n",
    "It will help in getting better results when the weight distribution of the classes is not normal. A Normal distribution would imply that each class' weight is similar with all other weights of classes."
   ]
  },
  {
   "cell_type": "code",
   "execution_count": 13,
   "id": "8b65dbcb",
   "metadata": {},
   "outputs": [
    {
     "data": {
      "image/png": "[encoded data removed]",
      "text/plain": [
       "<Figure size 864x432 with 1 Axes>"
      ]
     },
     "metadata": {
      "needs_background": "light"
     },
     "output_type": "display_data"
    }
   ],
   "source": [
    "Cleaned_data['activity_ID'].value_counts().plot(kind = \"bar\",figsize = (12,6))\n",
    "plt.title(\"Activities Vs Count\")\n",
    "plt.ylabel(\" Count\")\n",
    "plt.xlabel(\"Activity_ID\")\n",
    "plt.show()"
   ]
  },
  {
   "cell_type": "markdown",
   "id": "b726a73b",
   "metadata": {},
   "source": [
    "#### 4.1) SPLITTING INTO TRAIN AND TEST SETS"
   ]
  },
  {
   "cell_type": "markdown",
   "id": "5ba5448b",
   "metadata": {},
   "source": [
    "As the above plot shows, our classes are mostly balanced. Therefore, we proceed with splitting the data into train and test sets. \n",
    "The most commonly used split for proper analysis is a 80% split for train set and 20% for test set, which is the split fraction that will be used."
   ]
  },
  {
   "cell_type": "code",
   "execution_count": 14,
   "id": "d002b31f",
   "metadata": {},
   "outputs": [],
   "source": [
    "train_set = Cleaned_data.sample(frac=0.8, random_state=1)\n",
    "test_set = Cleaned_data.drop(train_set.index)"
   ]
  },
  {
   "cell_type": "markdown",
   "id": "c17e308e",
   "metadata": {},
   "source": [
    "As we know heart rate is a very good measure of how a person or a subject performs an activity.\n",
    "\n",
    "An increased heart rate would imply the subject performed a heavy or cumbersome activity.\n",
    "\n",
    "In order to understand which are the cumbersome activities, im plotting a bar chart showing the heart rate against the activities. This would give a further insight on the activities performed by the subject."
   ]
  },
  {
   "cell_type": "code",
   "execution_count": 15,
   "id": "58ac708a",
   "metadata": {},
   "outputs": [
    {
     "data": {
      "text/plain": [
       "<AxesSubplot:title={'center':'Heart rate vs Activities'}, xlabel='activity_ID'>"
      ]
     },
     "execution_count": 15,
     "metadata": {},
     "output_type": "execute_result"
    },
    {
     "data": {
      "image/png": "[encoded data removed]",
      "text/plain": [
       "<Figure size 432x288 with 1 Axes>"
      ]
     },
     "metadata": {
      "needs_background": "light"
     },
     "output_type": "display_data"
    }
   ],
   "source": [
    "df_chesttem_act = train_set['heartrate'].groupby(train_set['activity_ID']).mean()\n",
    "plt.title(\"Heart rate vs Activities\")\n",
    "df_chesttem_act.index = df_chesttem_act.index.map(activity_ID_dict)\n",
    "df_chesttem_act.plot(kind='bar')"
   ]
  },
  {
   "cell_type": "markdown",
   "id": "b73e98f0",
   "metadata": {},
   "source": [
    "After analysing the above bar chart, i can understand that there are a few cumbersome activities which were performed by the subjects. Running and ropejumping seems to induce higher heart rates when compared to other activities.Hence im going to classify them as cumbersome activities in my analysis. \n",
    "\n",
    "Meanwhile, activities like cycling, nordik walking, walking etc has lower heart rates and we are going to classify them as non cumbersome activities for the analysis."
   ]
  },
  {
   "cell_type": "markdown",
   "id": "84668545",
   "metadata": {},
   "source": [
    "#### Medical Theory relating heart rate to body temperature: \n",
    "\n",
    "We know that we sweat alot during excersises, this is to reduce the body temperature when it gets high. Similarily, the brain prompts the heart to increase the flow of blood which inturn increases the heart rate. This would imply that the body temperature would decrease while doing cumbersome activites like running, ropejumping etc.\n",
    "\n",
    "Im going to explore this relation with heart rate and temperature, focusing on chest temperature as it would probably show the best results for this analysis since the other temperature measurements in this dataset are from hands and ankles.\n"
   ]
  },
  {
   "cell_type": "code",
   "execution_count": 16,
   "id": "e54c09e0",
   "metadata": {},
   "outputs": [
    {
     "data": {
      "text/plain": [
       "<AxesSubplot:xlabel='chest_Temperature', ylabel='heartrate'>"
      ]
     },
     "execution_count": 16,
     "metadata": {},
     "output_type": "execute_result"
    },
    {
     "data": {
      "image/png": "[encoded data removed]",
      "text/plain": [
       "<Figure size 432x288 with 1 Axes>"
      ]
     },
     "metadata": {
      "needs_background": "light"
     },
     "output_type": "display_data"
    }
   ],
   "source": [
    "test_set.plot.scatter('chest_Temperature','heartrate')"
   ]
  },
  {
   "cell_type": "markdown",
   "id": "3c822d63",
   "metadata": {},
   "source": [
    "From the scatter plot above we can make gather some insights. It shows that for lower values of chest Temperature the heart rate is high. since the data contains both the cumbersome and non cumbersome activities, it has a wide range of information.\n",
    "\n",
    "we can see that somewhere near 34 Degree celsius chest temperature, the heart rate can go upto 200, which is the highest of the data set."
   ]
  },
  {
   "cell_type": "code",
   "execution_count": 17,
   "id": "9abea863",
   "metadata": {},
   "outputs": [
    {
     "data": {
      "text/plain": [
       "chest_Temperature    36.179373\n",
       "dtype: float64"
      ]
     },
     "execution_count": 17,
     "metadata": {},
     "output_type": "execute_result"
    }
   ],
   "source": [
    "train_set.loc[:,['chest_Temperature']].mean()"
   ]
  },
  {
   "cell_type": "markdown",
   "id": "e52b2016",
   "metadata": {},
   "source": [
    "The mean of the chest temperature is almost the normal body temperature, lets plot a box plot to determine the interquartile ranges."
   ]
  },
  {
   "cell_type": "code",
   "execution_count": 18,
   "id": "1bc94779",
   "metadata": {},
   "outputs": [
    {
     "data": {
      "text/plain": [
       "[Text(0, 0.5, 'Temperature (C)')]"
      ]
     },
     "execution_count": 18,
     "metadata": {},
     "output_type": "execute_result"
    },
    {
     "data": {
      "image/png": "[encoded data removed]",
      "text/plain": [
       "<Figure size 576x576 with 1 Axes>"
      ]
     },
     "metadata": {
      "needs_background": "light"
     },
     "output_type": "display_data"
    }
   ],
   "source": [
    "ax1=train_set.boxplot(['chest_Temperature'],figsize = (8,8))\n",
    "ax1.set(ylabel='Temperature (C)')"
   ]
  },
  {
   "cell_type": "markdown",
   "id": "63cf194e",
   "metadata": {},
   "source": [
    "From the box plot above we can understand the first quartile group out of the four starts from 31 degree celsius which is the lowest data point and finishes at 35.3 degree celsius, which also makes it our biggest group by looking at the size of it on the box plot compared to the other quartiles. Second group range starts from 35.3 to 37.6 degree celsius. the third group starts from the mean value at 36.1 till the interquartile range of 37.6 degree celsius. The fourth group starts from 37.6 to 38.5 degree celsius, which would be the highest data point in the dataset."
   ]
  },
  {
   "cell_type": "markdown",
   "id": "c31a8700",
   "metadata": {},
   "source": [
    "In order to see which activities have low chest temperature, i plot a bar chart showing chest temperature against activity ID."
   ]
  },
  {
   "cell_type": "code",
   "execution_count": 19,
   "id": "78418020",
   "metadata": {},
   "outputs": [
    {
     "data": {
      "image/png": "[encoded data removed]",
      "text/plain": [
       "<Figure size 432x288 with 1 Axes>"
      ]
     },
     "metadata": {
      "needs_background": "light"
     },
     "output_type": "display_data"
    }
   ],
   "source": [
    "def chest_temp():\n",
    "    df_handtem_act = train_set['chest_Temperature'].groupby(train_set['activity_ID']).mean()\n",
    "    plt.title(\"Chest Temperature\")\n",
    "    df_handtem_act.index = df_handtem_act.index.map(activity_ID_dict)\n",
    "    df_handtem_act.plot(kind='bar')\n",
    "    \n",
    "    \n",
    "chest_temp()"
   ]
  },
  {
   "cell_type": "markdown",
   "id": "ec83d3b9",
   "metadata": {},
   "source": [
    "we can see that the chest temperature is less for the cumbersome activities with high heartrate, These activities are Running and rope jumping. "
   ]
  },
  {
   "cell_type": "markdown",
   "id": "18e3c78f",
   "metadata": {},
   "source": [
    "Hence we can say that the data for chest temperature follows the Medical studies which mentions that intense work leads to decrease in body temperature. "
   ]
  },
  {
   "cell_type": "markdown",
   "id": "e5a011de",
   "metadata": {},
   "source": [
    "#### 4.2) Deeper Analysis on the activities"
   ]
  },
  {
   "cell_type": "markdown",
   "id": "d8afefb3",
   "metadata": {},
   "source": [
    "Now im going to split the data according to their activity ID to get insights on the values obtained from the cumbersome activities and non cumbersome activities.\n",
    "\n",
    "This seperation would give us insights on different values obtained from the subjects for just the selected activites.\n",
    "\n",
    "I will be taking running as my cumbersome activtiy and walking as my non cumbersome activity."
   ]
  },
  {
   "cell_type": "code",
   "execution_count": 20,
   "id": "a5c445df",
   "metadata": {},
   "outputs": [],
   "source": [
    "running_data = train_set.loc[(train_set[\"activity_ID\"] == 5)] # Creating a dataset with just the values for the activity running\n",
    "walking_data = train_set.loc[(train_set[\"activity_ID\"] == 4)] # Creating a dataset with just the values for the activity walking running"
   ]
  },
  {
   "cell_type": "markdown",
   "id": "065e8556",
   "metadata": {},
   "source": [
    "Now i plot the boxplot to perform further analysis on the chest temperature for the non cumbersome activity, which i have taken as walking."
   ]
  },
  {
   "cell_type": "code",
   "execution_count": 21,
   "id": "550eab57",
   "metadata": {},
   "outputs": [
    {
     "data": {
      "text/plain": [
       "[Text(0, 0.5, 'Temperature in Celsius(C)')]"
      ]
     },
     "execution_count": 21,
     "metadata": {},
     "output_type": "execute_result"
    },
    {
     "data": {
      "image/png": "[encoded data removed]",
      "text/plain": [
       "<Figure size 576x576 with 1 Axes>"
      ]
     },
     "metadata": {
      "needs_background": "light"
     },
     "output_type": "display_data"
    }
   ],
   "source": [
    "ax1=walking_data.boxplot(['chest_Temperature'],figsize = (8,8))\n",
    "ax1.set(ylabel='Temperature in Celsius(C)')"
   ]
  },
  {
   "cell_type": "markdown",
   "id": "04f3ea4f",
   "metadata": {},
   "source": [
    "we can see from the box plot that lowest data point in this dataset is 35.2 Degree Celsius and the highest will be 38.4 Degree Celsius and the mean will be around 37 degree celsius. We can see there is a slight negative skew from the boxplot."
   ]
  },
  {
   "cell_type": "markdown",
   "id": "63312a6e",
   "metadata": {},
   "source": [
    "We now check the box plot of the chest temperature for the activity Running in order to gather more insight."
   ]
  },
  {
   "cell_type": "code",
   "execution_count": 22,
   "id": "cc9f2782",
   "metadata": {},
   "outputs": [
    {
     "data": {
      "text/plain": [
       "[Text(0, 0.5, 'Temperature in Celsius(C)')]"
      ]
     },
     "execution_count": 22,
     "metadata": {},
     "output_type": "execute_result"
    },
    {
     "data": {
      "image/png": "[encoded data removed]",
      "text/plain": [
       "<Figure size 576x576 with 1 Axes>"
      ]
     },
     "metadata": {
      "needs_background": "light"
     },
     "output_type": "display_data"
    }
   ],
   "source": [
    "ax1=running_data.boxplot(['chest_Temperature'],figsize = (8,8))\n",
    "ax1.set(ylabel='Temperature in Celsius(C)')"
   ]
  },
  {
   "cell_type": "markdown",
   "id": "eef8d2b3",
   "metadata": {},
   "source": [
    "This boxplots has a positive skew with the lowest datapoint at 32.1 degree celsius and highest at 36.7 degree celsius. The mean will be 34.3 degree celsius."
   ]
  },
  {
   "cell_type": "markdown",
   "id": "646d63e0",
   "metadata": {},
   "source": [
    "From the above boxplots we can see the difference in chest temperature between cumbersome and non cumbersome activities.\n",
    "which we will be further exploring."
   ]
  },
  {
   "cell_type": "markdown",
   "id": "bb9ecc3b",
   "metadata": {},
   "source": [
    "## 5) DATA CORRELATION ANALYSIS"
   ]
  },
  {
   "cell_type": "markdown",
   "id": "110b000a",
   "metadata": {},
   "source": [
    "In order to find the correlation between the attributes in our dataset, we need to find the correlation coefficient.\n",
    "\n",
    "we calculate the coefficient of correlation and create a correlation matrix so that we can plot a heatmap for easily visualising the correlation between the attributes."
   ]
  },
  {
   "cell_type": "code",
   "execution_count": 23,
   "id": "1c772286",
   "metadata": {},
   "outputs": [
    {
     "name": "stderr",
     "output_type": "stream",
     "text": [
      "C:\\Users\\HP\\AppData\\Local\\Temp\\ipykernel_20176\\1937695211.py:7: DeprecationWarning: `np.bool` is a deprecated alias for the builtin `bool`. To silence this warning, use `bool` by itself. Doing this will not modify any behavior and is safe. If you specifically wanted the numpy scalar type, use `np.bool_` here.\n",
      "Deprecated in NumPy 1.20; for more details and guidance: https://numpy.org/devdocs/release/1.20.0-notes.html#deprecations\n",
      "  sns.heatmap(P_corr, mask=np.zeros_like(P_corr, dtype=np.bool), cmap = \"Blues\",ax=ax)\n"
     ]
    },
    {
     "data": {
      "image/png": "[encoded data removed]",
      "text/plain": [
       "<Figure size 1080x720 with 2 Axes>"
      ]
     },
     "metadata": {
      "needs_background": "light"
     },
     "output_type": "display_data"
    }
   ],
   "source": [
    "import seaborn as sns\n",
    "from pandas.plotting import scatter_matrix\n",
    "P_corr = train_set.corr()\n",
    "P_corr = P_corr.drop(['activity_ID'], axis = 1)\n",
    "\n",
    "f, ax = plt.subplots(figsize=(15, 10))\n",
    "sns.heatmap(P_corr, mask=np.zeros_like(P_corr, dtype=np.bool), cmap = \"Blues\",ax=ax)\n",
    "plt.show()"
   ]
  },
  {
   "cell_type": "markdown",
   "id": "1ba581aa",
   "metadata": {},
   "source": [
    "Our heatmap shows how much statistical similarity there is between our different columns.\n",
    "\n",
    "From the heatmap we can see the correlation between chest temperature and hand temperature, the correlation between them seems to be high due to the fact the brain tries to balance the temperature of the body to the optimum value.\n",
    "\n",
    "However we would be focusing more on chest temperature because hand temperature would have different factors which would heavily tamper with its values.\n",
    "Some of them would, be wind friction while doing the activities which could decrease the hand temperature, and temperature of the surrounding enviornment which could either increase or decrease the body temperature.\n",
    "\n",
    "We can also observe that the gyroscopes do not correlate with any of our other data and seem to not required in this model and for my analysis as im not conducting an analysis on movement of the subjects.\n",
    "\n",
    "On the other hand we can understand the correlation between accelerometers of the hand. The two are strongly correlated on all three instances of hand accelerometers.\n",
    "\n",
    "We can also see the correlation between chest magnetometers and heart rate, this was to be expected as they are close to each other."
   ]
  },
  {
   "cell_type": "markdown",
   "id": "3503936e",
   "metadata": {},
   "source": [
    "## 6) Hypothesis Testing"
   ]
  },
  {
   "cell_type": "markdown",
   "id": "8c6afb53",
   "metadata": {},
   "source": [
    "The hypothesis would be:\n",
    "\n",
    "If the activity performed by the subject is cumbersome(has high heart rate) then, the chest temperature of the subject would be lower when compared with other activities which induces lower heart rate."
   ]
  },
  {
   "cell_type": "markdown",
   "id": "15b9ea37",
   "metadata": {},
   "source": [
    "For testing this hypothesis, we will be using Normal distribution. The first step is to construct confidence intervals for the cumbersome activity, in this case we are taking running as the cumbersome activity. The population mean of the chest temperature would lie between this CI."
   ]
  },
  {
   "cell_type": "markdown",
   "id": "e9f98b2d",
   "metadata": {},
   "source": [
    "#### 6.1) Constructing Confidence intervals for Chest temperature while Running\n",
    "\n",
    "Im calculating the confidence interval at 95% level such that we can be 95% confident that the population mean would be between the upper and lower CI's "
   ]
  },
  {
   "cell_type": "code",
   "execution_count": 24,
   "id": "f95f1ce6",
   "metadata": {},
   "outputs": [
    {
     "name": "stdout",
     "output_type": "stream",
     "text": [
      "Upper CI= 34.401122303041525 Celsius\n"
     ]
    }
   ],
   "source": [
    "upper_bound = running_data[\"chest_Temperature\"].mean()+(1.96*running_data[\"chest_Temperature\"].std())/running_data[\"chest_Temperature\"].count()\n",
    "print(\"Upper CI= {} Celsius\".format(upper_bound))"
   ]
  },
  {
   "cell_type": "code",
   "execution_count": 25,
   "id": "583a388b",
   "metadata": {},
   "outputs": [
    {
     "name": "stdout",
     "output_type": "stream",
     "text": [
      "Lower CI= 34.40105091727586 Celsius\n"
     ]
    }
   ],
   "source": [
    "lower_bound = running_data[\"chest_Temperature\"].mean()-(1.96*running_data[\"chest_Temperature\"].std())/running_data[\"chest_Temperature\"].count()\n",
    "print(\"Lower CI= {} Celsius\".format(lower_bound))"
   ]
  },
  {
   "cell_type": "markdown",
   "id": "61036b37",
   "metadata": {},
   "source": [
    "From the above observation, we can be 95 % confident that the population mean for chest temperature while running would be between 34.4010< μ <34.4011 degree Celcius. The interval is small since there is little variation for chest temperature within the running dataset.\n",
    "\n",
    "We use this information to assume the population mean for chest temperature when the activity is running as 34.39 Degree Celsius."
   ]
  },
  {
   "cell_type": "markdown",
   "id": "f1fc6739",
   "metadata": {},
   "source": [
    "We can create the null and alternate hypothesis as follows:\n",
    "\n",
    "#### Null hypothesis\n",
    "H0 -> The mean of the chest temperature of the subject while Running is far greater than 34 degree Celsius.\n",
    "\n",
    "#### Alternate Hypothesis\n",
    "H1 -> The mean of the chest temperature of the subject while Running doesn't have a huge difference from 34 degree Celsius."
   ]
  },
  {
   "cell_type": "code",
   "execution_count": 26,
   "id": "d2e05d0a",
   "metadata": {},
   "outputs": [
    {
     "name": "stdout",
     "output_type": "stream",
     "text": [
      "The p_value is  0.014870738910893189  \n",
      "h0 is rejected.\n",
      "The mean of the chest temperature of the subject while Running doesn't have a huge difference from 34 degree Celsius.\n"
     ]
    }
   ],
   "source": [
    "import scipy.stats\n",
    "\n",
    "p = (running_data['chest_Temperature'].mean()-34.39) / (running_data['chest_Temperature'].std() / math.sqrt( running_data['chest_Temperature'].count() ))\n",
    "pValue = 1 - scipy.stats.norm.cdf(p)\n",
    "\n",
    "if pValue > 0.1:\n",
    "    print(\"The p_value is \", pValue, \" and h1 is rejected. The mean of the chest temperature of the subject while Running is far greater than 34 degree Celsius.\")\n",
    "else:\n",
    "    print(\"The p_value is \", pValue, \" \\nh0 is rejected.\\nThe mean of the chest temperature of the subject while Running doesn't have a huge difference from 34 degree Celsius.\")"
   ]
  },
  {
   "cell_type": "markdown",
   "id": "c23c637f",
   "metadata": {},
   "source": [
    "From the P value obtained we can understand that this is statisctically significant since it is less than the threshold of 0.05 at 95 % level.\n",
    "Hence We can say that the mean of the chest temperature of the subject while running is close to 34.39 C and won't be greater.\n",
    "\n",
    "We can use this information as an important point in the analysis as this should be compared with the mean chest temperature while the activity is walking (Non cumbersome activity)"
   ]
  },
  {
   "cell_type": "markdown",
   "id": "3e706693",
   "metadata": {},
   "source": [
    "### 6.2) Deeper Testing"
   ]
  },
  {
   "cell_type": "markdown",
   "id": "a87564d2",
   "metadata": {},
   "source": [
    "To increase credibility of this hypothesis, im doing further testing to see if the population mean of the chest temperature for non cumbersome activities (In this case walking) would be higher than 34.38 C which was obtained for running."
   ]
  },
  {
   "cell_type": "markdown",
   "id": "f48a808f",
   "metadata": {},
   "source": [
    "#### 6.2.1) Constructing Confidence intervals for Chest temperature while walking\n",
    "\n",
    "Calculating the confidence interval at 95% level such that we can be 95% confident that the population mean would be between the upper and lower CI's "
   ]
  },
  {
   "cell_type": "code",
   "execution_count": 27,
   "id": "8b2d92ab",
   "metadata": {},
   "outputs": [
    {
     "name": "stdout",
     "output_type": "stream",
     "text": [
      "upper CI= 37.00913597715747\n"
     ]
    }
   ],
   "source": [
    "upper_bound = walking_data[\"chest_Temperature\"].mean()+(1.96*walking_data[\"chest_Temperature\"].std())/walking_data[\"chest_Temperature\"].count()\n",
    "print(\"upper CI=\",upper_bound)"
   ]
  },
  {
   "cell_type": "code",
   "execution_count": 28,
   "id": "58f9a069",
   "metadata": {},
   "outputs": [
    {
     "name": "stdout",
     "output_type": "stream",
     "text": [
      "Lower CI= 37.00911896847333\n"
     ]
    }
   ],
   "source": [
    "lower_bound = walking_data[\"chest_Temperature\"].mean()-(1.96*walking_data[\"chest_Temperature\"].std())/walking_data[\"chest_Temperature\"].count()\n",
    "print(\"Lower CI=\",lower_bound)"
   ]
  },
  {
   "cell_type": "markdown",
   "id": "9332c1f9",
   "metadata": {},
   "source": [
    "we can be 95 % confident that the population mean for chest temperature while walking would be between 37.00911< μ <37.00913 degree Celcius. The interval is small since there is little variation for chest temperature within the walking dataset."
   ]
  },
  {
   "cell_type": "markdown",
   "id": "eeda8eb9",
   "metadata": {},
   "source": [
    "Now let us check if the mean for the chest temperature of the subject while cycling is greater than 34.39 degree Celcius obtained while running.\n",
    "\n",
    "By checking the Confidence interval, we can assume the population mean could be a little higher than 37 Degree Celcius.\n",
    "Hence we are going to assume the value for population mean as 37 in order to calculate the P-value.\n",
    "\n",
    "We are going to use normal distribution for the same and We verify it by calculating the P-value at 95% level."
   ]
  },
  {
   "cell_type": "code",
   "execution_count": 29,
   "id": "c5ca5c1c",
   "metadata": {},
   "outputs": [
    {
     "name": "stdout",
     "output_type": "stream",
     "text": [
      "P-Value = 7.338785298349748e-07\n"
     ]
    }
   ],
   "source": [
    "p = (walking_data['chest_Temperature'].mean()-37) / (walking_data['chest_Temperature'].std() / math.sqrt( walking_data['chest_Temperature'].count() ))\n",
    "pValue = 1 - scipy.stats.norm.cdf(p)\n",
    "print (\"P-Value =\",pValue)"
   ]
  },
  {
   "cell_type": "markdown",
   "id": "79189214",
   "metadata": {},
   "source": [
    "we got a P-Value less than 0.05 which indicates this as statistically significant and we can be 95% confident that the population mean of the chest temperature while cycling will be very close to 37 Degree Celsius."
   ]
  },
  {
   "cell_type": "markdown",
   "id": "1b23e896",
   "metadata": {},
   "source": [
    "From the above tests we can verify that the chest temperature is higher for cycling (37 Degree Celsius) than for Running (34 Degree Celsius).\n",
    "This supports my analysis on this dataset. In order to increase the credibility of the analysis, we need to take a few small samples from the running and walking dataset and perform bootstrapping and gather enough evidence that would support the analysis."
   ]
  },
  {
   "cell_type": "markdown",
   "id": "6193c7db",
   "metadata": {},
   "source": [
    "#### 6.3) BOOTSTRAPING"
   ]
  },
  {
   "cell_type": "markdown",
   "id": "ee049c88",
   "metadata": {},
   "source": [
    "Bootstrapping is a resampling technique. Bootstrapping allows us to generate a distribution of estimates, rather than a single point estimate. Bootstrapping allows us to estimate uncertainty, allowing computation of confidence intervals.\n",
    "\n",
    "Performing bootstraping would give more credibitly to the hypothesis."
   ]
  },
  {
   "cell_type": "markdown",
   "id": "2c303296",
   "metadata": {},
   "source": [
    "The first step for bootstrapping is to collect a small sample from the runnind dataset. This will help in computing the Upper and lower Confidence Intervals."
   ]
  },
  {
   "cell_type": "code",
   "execution_count": 30,
   "id": "5bc34265",
   "metadata": {},
   "outputs": [
    {
     "data": {
      "text/plain": [
       "1436799    33.1875\n",
       "1165461    36.4375\n",
       "1427969    33.3125\n",
       "233529     33.6875\n",
       "1422642    33.4375\n",
       "            ...   \n",
       "1429360    33.2500\n",
       "1912392    34.1250\n",
       "1917773    34.1875\n",
       "1919095    34.1875\n",
       "1912727    34.1250\n",
       "Name: chest_Temperature, Length: 100, dtype: float64"
      ]
     },
     "execution_count": 30,
     "metadata": {},
     "output_type": "execute_result"
    }
   ],
   "source": [
    "smallsample=running_data['chest_Temperature'].dropna()[:100]\n",
    "smallsample"
   ]
  },
  {
   "cell_type": "code",
   "execution_count": 31,
   "id": "bded3a27",
   "metadata": {},
   "outputs": [
    {
     "data": {
      "text/plain": [
       "[36.4375,\n",
       " 34.0625,\n",
       " 36.4375,\n",
       " 33.75,\n",
       " 33.1875,\n",
       " 32.0625,\n",
       " 36.625,\n",
       " 32.3125,\n",
       " 34.125,\n",
       " 33.25,\n",
       " 33.4375,\n",
       " 33.9375,\n",
       " 33.1875,\n",
       " 36.4375,\n",
       " 33.75,\n",
       " 34.125,\n",
       " 34.0,\n",
       " 33.1875,\n",
       " 34.1875,\n",
       " 33.25,\n",
       " 33.1875,\n",
       " 33.6875,\n",
       " 36.375,\n",
       " 33.1875,\n",
       " 36.4375,\n",
       " 33.25,\n",
       " 33.5,\n",
       " 32.375,\n",
       " 34.1875,\n",
       " 33.6875,\n",
       " 36.375,\n",
       " 33.1875,\n",
       " 34.1875,\n",
       " 33.5625,\n",
       " 36.375,\n",
       " 32.375,\n",
       " 33.6875,\n",
       " 36.375,\n",
       " 34.125,\n",
       " 36.4375,\n",
       " 34.1875,\n",
       " 33.6875,\n",
       " 33.1875,\n",
       " 33.1875,\n",
       " 36.4375,\n",
       " 33.75,\n",
       " 34.25,\n",
       " 34.1875,\n",
       " 33.1875,\n",
       " 33.6875,\n",
       " 33.3125,\n",
       " 33.3125,\n",
       " 32.4375,\n",
       " 36.6875,\n",
       " 34.125,\n",
       " 34.1875,\n",
       " 33.375,\n",
       " 33.9375,\n",
       " 33.1875,\n",
       " 33.3125,\n",
       " 36.375,\n",
       " 33.4375,\n",
       " 36.375,\n",
       " 33.125,\n",
       " 32.0625,\n",
       " 33.1875,\n",
       " 33.75,\n",
       " 33.25,\n",
       " 36.625,\n",
       " 32.375,\n",
       " 33.625,\n",
       " 32.0625,\n",
       " 33.6875,\n",
       " 32.375,\n",
       " 33.625,\n",
       " 33.25,\n",
       " 33.625,\n",
       " 36.375,\n",
       " 33.25,\n",
       " 33.25,\n",
       " 33.375,\n",
       " 34.125,\n",
       " 33.9375,\n",
       " 33.1875,\n",
       " 33.6875,\n",
       " 34.0625,\n",
       " 34.125,\n",
       " 36.375,\n",
       " 33.25,\n",
       " 36.375,\n",
       " 32.3125,\n",
       " 33.1875,\n",
       " 36.375,\n",
       " 33.3125,\n",
       " 34.25,\n",
       " 36.4375,\n",
       " 34.1875,\n",
       " 33.3125,\n",
       " 32.375,\n",
       " 34.125]"
      ]
     },
     "execution_count": 31,
     "metadata": {},
     "output_type": "execute_result"
    }
   ],
   "source": [
    "import random\n",
    "def bootstrap_sample(data):\n",
    "    return [random.choice((data)) for _ in data]\n",
    "\n",
    "smallsample = np.array(smallsample)\n",
    "bootstrap_sample(smallsample)"
   ]
  },
  {
   "cell_type": "code",
   "execution_count": 32,
   "id": "3291cf53",
   "metadata": {},
   "outputs": [
    {
     "name": "stdout",
     "output_type": "stream",
     "text": [
      "Bootstrapped Mean (of the median):  33.78587037962038\n",
      "Bootstrapped CI Lower bound:  33.65625\n",
      "Bootstrapped CI Upper bound:  34.03125\n"
     ]
    }
   ],
   "source": [
    "bsmedian=[]\n",
    "for i in range(1001):\n",
    "    bs=bootstrap_sample(smallsample)\n",
    "    #print bs\n",
    "    #print np.median(bs)\n",
    "    bsmedian.append(np.median(bs))\n",
    "\n",
    "bsmedian_array=np.array(bsmedian)\n",
    "print (\"Bootstrapped Mean (of the median): \", np.mean(bsmedian_array))\n",
    "print (\"Bootstrapped CI Lower bound: \", np.percentile(bsmedian_array,2.5))\n",
    "print (\"Bootstrapped CI Upper bound: \", np.percentile(bsmedian_array,97.5))\n"
   ]
  },
  {
   "cell_type": "markdown",
   "id": "7075993d",
   "metadata": {},
   "source": [
    "The bootstrapped mean of the median is 33.78 degree celsius when the activity is running. According to my analysis this should be lower when compared with the chest temperature if the activity is walking."
   ]
  },
  {
   "cell_type": "code",
   "execution_count": 33,
   "id": "63e0fb37",
   "metadata": {},
   "outputs": [],
   "source": [
    "chest_walking = walking_data['chest_Temperature'].dropna()[:100]"
   ]
  },
  {
   "cell_type": "code",
   "execution_count": 34,
   "id": "3b458fb5",
   "metadata": {},
   "outputs": [
    {
     "name": "stdout",
     "output_type": "stream",
     "text": [
      "Bootstrapped Mean:  37.126952422577425\n",
      "Bootstrapped CI Lower bound:  36.964375\n",
      "Bootstrapped CI Upper bound:  37.28\n"
     ]
    }
   ],
   "source": [
    "chest_walking_sample = np.array(chest_walking)\n",
    "\n",
    "bsmean=[]\n",
    "for i in range(1001):\n",
    "    bs=bootstrap_sample(chest_walking_sample)\n",
    "    bsmean.append(np.mean(bs))\n",
    "\n",
    "bsmean_array=np.array(bsmean)\n",
    "print (\"Bootstrapped Mean: \", np.mean(bsmean_array))\n",
    "print (\"Bootstrapped CI Lower bound: \", np.percentile(bsmean_array,2.5))\n",
    "print (\"Bootstrapped CI Upper bound: \", np.percentile(bsmean_array,97.5))"
   ]
  },
  {
   "cell_type": "markdown",
   "id": "d3533890",
   "metadata": {},
   "source": [
    "The bootstrapped Mean of the median for chest temperature while walking is 37.12 Degree Celsius which is higher than the mean obtained when the activity is running."
   ]
  },
  {
   "cell_type": "markdown",
   "id": "93aad5a1",
   "metadata": {},
   "source": [
    "By examining the above values obtained by bootstraping we can say that the difference in the chest temperature of the subjects for both activites is pretty significant."
   ]
  },
  {
   "cell_type": "markdown",
   "id": "99693041",
   "metadata": {},
   "source": [
    "Hence, my hypothesis would be true and we can say that the mean chest temperature for the subject doing cumbersome activites(Like running, ropejumping etc) would be lower than the chest temperature for a subject doing non cumbersome activities (like walking, sitting etc)."
   ]
  },
  {
   "cell_type": "markdown",
   "id": "dc4f8d16",
   "metadata": {},
   "source": [
    "## 7)  Modelling"
   ]
  },
  {
   "cell_type": "markdown",
   "id": "3a9cc080",
   "metadata": {},
   "source": [
    "A model in machine learning is the output of a machine learning algorithm which is run on data.\n",
    "We can also say that a model is the “thing” that is saved after running a machine learning algorithm on training data and will represent the rules, numbers, and any other algorithm-specific data structures required to make predictions.\n",
    "\n",
    "In order to continue with modelling, some variables have to be dropped which would impact our modelling precision.\n",
    "\n",
    "After examining the dataset i found out that The variables which have to be dropped are Time_stamp and subject_id since they contain numeric numbers which the modelling method would use in its calculations.\n",
    "Since their values doesn't hold any significance for our research, the modelling method used would have noise and predictions of accuracy would be inaccurate.\n",
    "\n",
    "Hence we would be dropping the columns time_stamp and subject_id from the train dataset."
   ]
  },
  {
   "cell_type": "code",
   "execution_count": 35,
   "id": "c7818beb",
   "metadata": {},
   "outputs": [],
   "source": [
    "from sklearn.tree import DecisionTreeClassifier\n",
    "from sklearn.model_selection import train_test_split,cross_val_score,StratifiedShuffleSplit\n",
    "from sklearn.metrics import precision_score,recall_score, f1_score, confusion_matrix,roc_auc_score,roc_curve, accuracy_score\n",
    "from sklearn.preprocessing import StandardScaler, RobustScaler\n",
    "from sklearn.decomposition import PCA, TruncatedSVD\n",
    "from sklearn.linear_model import LogisticRegression\n",
    "from sklearn.neighbors import KNeighborsClassifier"
   ]
  },
  {
   "cell_type": "code",
   "execution_count": 36,
   "id": "af9f99d5",
   "metadata": {},
   "outputs": [
    {
     "name": "stderr",
     "output_type": "stream",
     "text": [
      "C:\\Users\\HP\\AppData\\Local\\Temp\\ipykernel_20176\\1321810796.py:1: FutureWarning: In a future version of pandas all arguments of DataFrame.drop except for the argument 'labels' will be keyword-only.\n",
      "  train_set = train_set.drop([\"time_stamp\", \"subject_id\"],1) #Dropping Time_stamp and subject_id\n"
     ]
    }
   ],
   "source": [
    "train_set = train_set.drop([\"time_stamp\", \"subject_id\"],1) #Dropping Time_stamp and subject_id"
   ]
  },
  {
   "cell_type": "code",
   "execution_count": 37,
   "id": "511e8781",
   "metadata": {},
   "outputs": [
    {
     "data": {
      "text/html": [
       "<div>\n",
       "<style scoped>\n",
       "    .dataframe tbody tr th:only-of-type {\n",
       "        vertical-align: middle;\n",
       "    }\n",
       "\n",
       "    .dataframe tbody tr th {\n",
       "        vertical-align: top;\n",
       "    }\n",
       "\n",
       "    .dataframe thead th {\n",
       "        text-align: right;\n",
       "    }\n",
       "</style>\n",
       "<table border=\"1\" class=\"dataframe\">\n",
       "  <thead>\n",
       "    <tr style=\"text-align: right;\">\n",
       "      <th></th>\n",
       "      <th>activity_ID</th>\n",
       "      <th>heartrate</th>\n",
       "      <th>hand_Temperature</th>\n",
       "      <th>handAcc16_1</th>\n",
       "      <th>handAcc16_2</th>\n",
       "      <th>handAcc16_3</th>\n",
       "      <th>handAcc6_1</th>\n",
       "      <th>handAcc6_2</th>\n",
       "      <th>handAcc6_3</th>\n",
       "      <th>handGyro1</th>\n",
       "      <th>...</th>\n",
       "      <th>ankleAcc16_3</th>\n",
       "      <th>ankleAcc6_1</th>\n",
       "      <th>ankleAcc6_2</th>\n",
       "      <th>ankleAcc6_3</th>\n",
       "      <th>ankleGyro1</th>\n",
       "      <th>ankleGyro2</th>\n",
       "      <th>ankleGyro3</th>\n",
       "      <th>ankleMagne1</th>\n",
       "      <th>ankleMagne2</th>\n",
       "      <th>ankleMagne3</th>\n",
       "    </tr>\n",
       "  </thead>\n",
       "  <tbody>\n",
       "    <tr>\n",
       "      <th>312921</th>\n",
       "      <td>3</td>\n",
       "      <td>90.000000</td>\n",
       "      <td>34.1875</td>\n",
       "      <td>-8.52981</td>\n",
       "      <td>4.712060</td>\n",
       "      <td>0.358276</td>\n",
       "      <td>-8.254460</td>\n",
       "      <td>4.955160</td>\n",
       "      <td>0.791698</td>\n",
       "      <td>-0.015127</td>\n",
       "      <td>...</td>\n",
       "      <td>-1.52904</td>\n",
       "      <td>9.716540</td>\n",
       "      <td>-1.51198</td>\n",
       "      <td>-1.00687</td>\n",
       "      <td>0.079272</td>\n",
       "      <td>-0.003718</td>\n",
       "      <td>-0.076595</td>\n",
       "      <td>-18.7246</td>\n",
       "      <td>-16.8796</td>\n",
       "      <td>36.806500</td>\n",
       "    </tr>\n",
       "    <tr>\n",
       "      <th>141735</th>\n",
       "      <td>12</td>\n",
       "      <td>167.909091</td>\n",
       "      <td>33.6875</td>\n",
       "      <td>-11.23140</td>\n",
       "      <td>2.967660</td>\n",
       "      <td>2.325040</td>\n",
       "      <td>-10.353600</td>\n",
       "      <td>2.978210</td>\n",
       "      <td>2.293150</td>\n",
       "      <td>-0.626024</td>\n",
       "      <td>...</td>\n",
       "      <td>-2.36217</td>\n",
       "      <td>11.137500</td>\n",
       "      <td>-1.30176</td>\n",
       "      <td>-2.51348</td>\n",
       "      <td>-0.276670</td>\n",
       "      <td>0.669698</td>\n",
       "      <td>-0.143689</td>\n",
       "      <td>-51.7218</td>\n",
       "      <td>33.8385</td>\n",
       "      <td>-6.571620</td>\n",
       "    </tr>\n",
       "    <tr>\n",
       "      <th>1191085</th>\n",
       "      <td>24</td>\n",
       "      <td>181.000000</td>\n",
       "      <td>33.8125</td>\n",
       "      <td>-1.77987</td>\n",
       "      <td>3.716760</td>\n",
       "      <td>-7.388680</td>\n",
       "      <td>-0.572605</td>\n",
       "      <td>3.958700</td>\n",
       "      <td>-4.197230</td>\n",
       "      <td>-3.711030</td>\n",
       "      <td>...</td>\n",
       "      <td>2.85123</td>\n",
       "      <td>-4.136650</td>\n",
       "      <td>-4.00683</td>\n",
       "      <td>2.16232</td>\n",
       "      <td>1.877290</td>\n",
       "      <td>-0.176273</td>\n",
       "      <td>-0.654045</td>\n",
       "      <td>-44.6465</td>\n",
       "      <td>-12.2168</td>\n",
       "      <td>0.272571</td>\n",
       "    </tr>\n",
       "    <tr>\n",
       "      <th>1206914</th>\n",
       "      <td>1</td>\n",
       "      <td>62.000000</td>\n",
       "      <td>33.4375</td>\n",
       "      <td>4.89177</td>\n",
       "      <td>-0.216854</td>\n",
       "      <td>8.273420</td>\n",
       "      <td>5.134350</td>\n",
       "      <td>-0.344501</td>\n",
       "      <td>8.596710</td>\n",
       "      <td>0.040396</td>\n",
       "      <td>...</td>\n",
       "      <td>-3.39332</td>\n",
       "      <td>-0.117976</td>\n",
       "      <td>-9.41168</td>\n",
       "      <td>-2.83626</td>\n",
       "      <td>-0.008012</td>\n",
       "      <td>0.002114</td>\n",
       "      <td>0.017758</td>\n",
       "      <td>-17.3221</td>\n",
       "      <td>26.4451</td>\n",
       "      <td>-4.782110</td>\n",
       "    </tr>\n",
       "    <tr>\n",
       "      <th>1710520</th>\n",
       "      <td>2</td>\n",
       "      <td>79.000000</td>\n",
       "      <td>34.3125</td>\n",
       "      <td>-1.96494</td>\n",
       "      <td>-9.487270</td>\n",
       "      <td>0.889387</td>\n",
       "      <td>-1.802600</td>\n",
       "      <td>-9.468570</td>\n",
       "      <td>1.058310</td>\n",
       "      <td>-0.017383</td>\n",
       "      <td>...</td>\n",
       "      <td>-2.71744</td>\n",
       "      <td>9.187270</td>\n",
       "      <td>2.90300</td>\n",
       "      <td>-2.15340</td>\n",
       "      <td>0.010209</td>\n",
       "      <td>0.011341</td>\n",
       "      <td>0.028921</td>\n",
       "      <td>-19.4371</td>\n",
       "      <td>15.8269</td>\n",
       "      <td>26.000300</td>\n",
       "    </tr>\n",
       "  </tbody>\n",
       "</table>\n",
       "<p>5 rows × 41 columns</p>\n",
       "</div>"
      ],
      "text/plain": [
       "         activity_ID   heartrate  hand_Temperature  handAcc16_1  handAcc16_2  \\\n",
       "312921             3   90.000000           34.1875     -8.52981     4.712060   \n",
       "141735            12  167.909091           33.6875    -11.23140     2.967660   \n",
       "1191085           24  181.000000           33.8125     -1.77987     3.716760   \n",
       "1206914            1   62.000000           33.4375      4.89177    -0.216854   \n",
       "1710520            2   79.000000           34.3125     -1.96494    -9.487270   \n",
       "\n",
       "         handAcc16_3  handAcc6_1  handAcc6_2  handAcc6_3  handGyro1  ...  \\\n",
       "312921      0.358276   -8.254460    4.955160    0.791698  -0.015127  ...   \n",
       "141735      2.325040  -10.353600    2.978210    2.293150  -0.626024  ...   \n",
       "1191085    -7.388680   -0.572605    3.958700   -4.197230  -3.711030  ...   \n",
       "1206914     8.273420    5.134350   -0.344501    8.596710   0.040396  ...   \n",
       "1710520     0.889387   -1.802600   -9.468570    1.058310  -0.017383  ...   \n",
       "\n",
       "         ankleAcc16_3  ankleAcc6_1  ankleAcc6_2  ankleAcc6_3  ankleGyro1  \\\n",
       "312921       -1.52904     9.716540     -1.51198     -1.00687    0.079272   \n",
       "141735       -2.36217    11.137500     -1.30176     -2.51348   -0.276670   \n",
       "1191085       2.85123    -4.136650     -4.00683      2.16232    1.877290   \n",
       "1206914      -3.39332    -0.117976     -9.41168     -2.83626   -0.008012   \n",
       "1710520      -2.71744     9.187270      2.90300     -2.15340    0.010209   \n",
       "\n",
       "         ankleGyro2  ankleGyro3  ankleMagne1  ankleMagne2  ankleMagne3  \n",
       "312921    -0.003718   -0.076595     -18.7246     -16.8796    36.806500  \n",
       "141735     0.669698   -0.143689     -51.7218      33.8385    -6.571620  \n",
       "1191085   -0.176273   -0.654045     -44.6465     -12.2168     0.272571  \n",
       "1206914    0.002114    0.017758     -17.3221      26.4451    -4.782110  \n",
       "1710520    0.011341    0.028921     -19.4371      15.8269    26.000300  \n",
       "\n",
       "[5 rows x 41 columns]"
      ]
     },
     "execution_count": 37,
     "metadata": {},
     "output_type": "execute_result"
    }
   ],
   "source": [
    "train_set.head()"
   ]
  },
  {
   "cell_type": "markdown",
   "id": "662ddc32",
   "metadata": {},
   "source": [
    "### 7.1) Model selection"
   ]
  },
  {
   "cell_type": "markdown",
   "id": "b8563a0a",
   "metadata": {},
   "source": [
    "In this section of the report I will be training two models.\n",
    "The data is supervised hence we would have to proceed with a supervised learning algorithm. There are a few supervised learning algorithms like Linear Regression, logistic regression, K Nearest neighbours, Decision tree regression etc.\n",
    "\n",
    "Since the variables used in our analysis has a complex non linear relationship i would have to rule out linear regression model since it would have the least accuracy for predictions in this scenario.\n",
    "\n",
    "Hence, We are going to focus on two modelling algorithms, K Nearest Neighbour and Decision Tree Regression.\n",
    "These two modelling algorithms were used since they could better model the dataset and make more accurate predictions and are mostly non parametric modelling algorithms."
   ]
  },
  {
   "cell_type": "markdown",
   "id": "dfd87063",
   "metadata": {},
   "source": [
    "### 7.1.1) K Nearest Neighbour"
   ]
  },
  {
   "cell_type": "markdown",
   "id": "49ec1ad5",
   "metadata": {},
   "source": [
    "The k-nearest neighbors algorithm, also known as KNN or k-NN, is a non-parametric, supervised learning classifier, which uses proximity to make classifications or predictions about the grouping of an individual data point.It is also called as a lazy learners model.\n",
    "\n",
    "While it can be used for either regression or classification problems, it is typically used as a classification algorithm, working off the assumption that similar points can be found near one another."
   ]
  },
  {
   "cell_type": "markdown",
   "id": "58f5db3f",
   "metadata": {},
   "source": [
    "For this Model we will be using the training data set which contains the heart rate, chest temperature and activity ID which are the key attributes for this analysis."
   ]
  },
  {
   "cell_type": "markdown",
   "id": "a0ad28e2",
   "metadata": {},
   "source": [
    "The value of k would normaly be 7 or 14 which is optimal for smaller datasets. The dataset we are using contains large records of data and would require a more optimal value of K.\n",
    "\n",
    "This optimal K value usually found is the square root of N, where N is the total number of samples."
   ]
  },
  {
   "cell_type": "code",
   "execution_count": 38,
   "id": "ba82e345",
   "metadata": {},
   "outputs": [],
   "source": [
    "dataset_test2 = test_set.loc[:,['heartrate','chest_Temperature','activity_ID']]         #Testing dataset\n",
    "k = math.sqrt(dataset_test2['chest_Temperature'].count()) # Taking the value of K\n",
    "k = int(k)\n",
    "# Test Dataset\n",
    "X_test2 = dataset_test2.drop('activity_ID', axis=1)\n",
    "X_test2 = dataset_test2.loc[:,['heartrate','chest_Temperature']].values\n",
    "y_test2 = dataset_test2['activity_ID'].values\n",
    "\n",
    "dataset_train2 = train_set                                                     #Training dataset\n",
    "x_train2 = dataset_train2.drop('activity_ID', axis=1)\n",
    "x_train2 = dataset_train2.loc[:,['heartrate','chest_Temperature']].values\n",
    "y_train2 = dataset_train2['activity_ID'].values"
   ]
  },
  {
   "cell_type": "code",
   "execution_count": 39,
   "id": "df559010",
   "metadata": {},
   "outputs": [
    {
     "data": {
      "text/plain": [
       "KNeighborsClassifier(n_neighbors=623)"
      ]
     },
     "execution_count": 39,
     "metadata": {},
     "output_type": "execute_result"
    }
   ],
   "source": [
    "\n",
    "# Import necessary modules\n",
    "from sklearn.neighbors import KNeighborsClassifier\n",
    "from sklearn.model_selection import train_test_split\n",
    "from sklearn.datasets import load_iris\n",
    "    \n",
    "knn = KNeighborsClassifier(n_neighbors=k)\n",
    "  \n",
    "knn.fit(x_train2,y_train2)\n"
   ]
  },
  {
   "cell_type": "code",
   "execution_count": 40,
   "id": "748aad99",
   "metadata": {},
   "outputs": [],
   "source": [
    "y_pred = knn.predict(X_test2)"
   ]
  },
  {
   "cell_type": "markdown",
   "id": "06024a35",
   "metadata": {},
   "source": [
    "#### Accuracy calculation for K Nearest Neighbour:"
   ]
  },
  {
   "cell_type": "code",
   "execution_count": 41,
   "id": "e5199d59",
   "metadata": {},
   "outputs": [
    {
     "name": "stdout",
     "output_type": "stream",
     "text": [
      "Accuracy: 0.8053961407608332\n"
     ]
    }
   ],
   "source": [
    "#Import scikit-learn metrics module for accuracy calculation\n",
    "from sklearn import metrics\n",
    "# Model Accuracy, how often is the classifier correct?\n",
    "y_pred = knn.predict(X_test2)\n",
    "print(\"Accuracy:\",metrics.accuracy_score(y_test2, y_pred))"
   ]
  },
  {
   "cell_type": "markdown",
   "id": "917f2f96",
   "metadata": {},
   "source": [
    "I have received an Accuracy of 0.805 for KNN, which means the accuracy of the model is 80% and it is considered to be good and realistic, since anything above the accuracy percentage of 70% is considered to be a good model which can make pretty accurate predictions and learn the data more effectively."
   ]
  },
  {
   "cell_type": "markdown",
   "id": "9363fa44",
   "metadata": {},
   "source": [
    "#### Limitations of the modelling algorithm:"
   ]
  },
  {
   "cell_type": "markdown",
   "id": "fca1f831",
   "metadata": {},
   "source": [
    "There are a few limitations for this modelling algorithm they are as follows:\n",
    "\n",
    "*) KNN takes lot of computing power and lots of memory, i had to scale down the X and Y values to just 100 values each in order to plot the model.\n",
    "\n",
    "*) Due to limitation of computing power, creating a error plot or accuracy plot to find the most favorable K value is very time consuming. Hence we are using K as 14 to plot the model to gather the insights."
   ]
  },
  {
   "cell_type": "code",
   "execution_count": 42,
   "id": "3aabea21",
   "metadata": {},
   "outputs": [
    {
     "data": {
      "image/png": "[encoded data removed]",
      "text/plain": [
       "<Figure size 432x288 with 1 Axes>"
      ]
     },
     "metadata": {
      "needs_background": "light"
     },
     "output_type": "display_data"
    }
   ],
   "source": [
    "import matplotlib\n",
    "\n",
    "import numpy as np\n",
    "import matplotlib.pyplot as plt\n",
    "from matplotlib.colors import ListedColormap\n",
    "from sklearn import neighbors, datasets\n",
    "\n",
    "\n",
    "n_neighbors = 14\n",
    "\n",
    "\n",
    "# prepare data\n",
    "X = x_train2[:100]\n",
    "y = y_train2[:100]\n",
    "h = .02\n",
    "\n",
    "# Create color maps\n",
    "cmap_light = ListedColormap(['#FFAAAA', '#AAFFAA','#00AAFF'])\n",
    "cmap_bold = ListedColormap(['#FF0000', '#00FF00','#00AAFF'])\n",
    "\n",
    "# we create an instance of Neighbours Classifier and fit the data.\n",
    "clf = neighbors.KNeighborsClassifier(n_neighbors, weights='distance')\n",
    "clf.fit(X, y)\n",
    "\n",
    "# calculate min, max and limits\n",
    "x_min, x_max = X[:, 0].min() - 1, X[:, 0].max() + 1\n",
    "y_min, y_max = X[:, 1].min() - 1, X[:, 1].max() + 1\n",
    "xx, yy = np.meshgrid(np.arange(x_min, x_max, h),\n",
    "np.arange(y_min, y_max, h))\n",
    "\n",
    "# predict class using data and kNN classifier\n",
    "Z = clf.predict(np.c_[xx.ravel(), yy.ravel()])\n",
    "\n",
    "# Put the result into a color plot\n",
    "Z = Z.reshape(xx.shape)\n",
    "plt.figure()\n",
    "plt.pcolormesh(xx, yy, Z, cmap=cmap_light)\n",
    "\n",
    "# Plot also the training points\n",
    "plt.scatter(X[:, 0], X[:, 1], c=y, cmap=cmap_bold)\n",
    "plt.xlim(xx.min(), xx.max())\n",
    "plt.ylim(yy.min(), yy.max())\n",
    "plt.xlabel(\" Heart Rate\")\n",
    "plt.ylabel(\" Chest temperature\")\n",
    "plt.title(\"3-Class classification (k = %i)\" % (n_neighbors))\n",
    "plt.show()"
   ]
  },
  {
   "cell_type": "markdown",
   "id": "257ddd97",
   "metadata": {},
   "source": [
    "As mentioned in the limitations above, due to high consumption of memory, model visualization was a challenge, the values plotted were not clustered properly due to incomplete data points which couldnt be plotted.\n",
    "\n",
    "The number of data points for X and Y can be increased by the examiner to properly see the clustering, since it wont run on the computer im using for this analysis."
   ]
  },
  {
   "cell_type": "markdown",
   "id": "2b2a894f",
   "metadata": {},
   "source": [
    "### 7.1.2) Decision Tree Regression"
   ]
  },
  {
   "cell_type": "markdown",
   "id": "f4db8c68",
   "metadata": {},
   "source": [
    "Decision Trees are a non-parametric supervised learning methods, they are capable of finding complex nonlinear relationships in the data. They can perform both classification and regression tasks. Which makes them a very powerful supervised learning model.\n",
    "\n",
    "I have chosen this model because there seems to be a complex non linear relationship in the dataset between Heartrate and chest_Temperature which can be further trained and modelled by Decision Tree regression."
   ]
  },
  {
   "cell_type": "markdown",
   "id": "2727bcf0",
   "metadata": {},
   "source": [
    "We create seperate datasets for test and training with chest temperature and heart rate values since these are the main attributes which we are performing the analysis on."
   ]
  },
  {
   "cell_type": "code",
   "execution_count": 43,
   "id": "30598457",
   "metadata": {},
   "outputs": [],
   "source": [
    "\n",
    "dataset= train_set.loc[:,['chest_Temperature','heartrate']]  #creating a dataset which contains only the required attributes\n",
    "x_train = dataset.loc[:,['chest_Temperature']].values \n",
    "y_train = dataset['heartrate'].values\n",
    "\n",
    "dataset_test = test_set.loc[:,['chest_Temperature','heartrate']]\n",
    "# Test Dataset\n",
    "X_test = dataset_test.loc[:,['chest_Temperature']].values\n",
    "y_test = dataset_test['heartrate'].values"
   ]
  },
  {
   "cell_type": "code",
   "execution_count": 44,
   "id": "81472162",
   "metadata": {},
   "outputs": [
    {
     "data": {
      "text/plain": [
       "DecisionTreeRegressor(max_depth=15, random_state=0)"
      ]
     },
     "execution_count": 44,
     "metadata": {},
     "output_type": "execute_result"
    }
   ],
   "source": [
    "# import the regressor\n",
    "from sklearn.tree import DecisionTreeRegressor\n",
    "\n",
    "# create a regressor object\n",
    "regressor = DecisionTreeRegressor(max_depth = 15, random_state = 0)\n",
    "\n",
    "# fit the regressor with X and Y data\n",
    "regressor.fit(x_train, y_train)\n"
   ]
  },
  {
   "cell_type": "markdown",
   "id": "509cce9f",
   "metadata": {},
   "source": [
    "We can try to predict a new value for heart rate using a certain value for chest temperature.\n",
    "\n",
    "By doing this we can examine if our analysis is true by checking if the heart rate increases with decrease in chest temperature.\n",
    "As per our analysis, chest temperature will have a mean value no more than 34.39 Degree celsius when the subject is running and the same would be 37 degree celsius when the subject is walking.\n",
    "\n",
    "we can pass both the values and make a note of the heart rate predicted."
   ]
  },
  {
   "cell_type": "code",
   "execution_count": 45,
   "id": "724fe0a0",
   "metadata": {},
   "outputs": [
    {
     "name": "stdout",
     "output_type": "stream",
     "text": [
      "Predicted heartrate:  91\n",
      "\n"
     ]
    }
   ],
   "source": [
    "# predicting a new value\n",
    "\n",
    "# test the output by changing values of chest temperature, example: 34 Celsius.\n",
    "y_pred = regressor.predict([[37.38]])\n",
    "\n",
    "# print the predicted price\n",
    "print(\"Predicted heartrate: % d\\n\"% y_pred)\n"
   ]
  },
  {
   "cell_type": "markdown",
   "id": "025f1587",
   "metadata": {},
   "source": [
    "As we try to predict different values for Heart Rate using chest temperature, the Model predicts the data in the way expected by my research and supports my hypothesis. for higher values of chest temperature, the heart rate is lower.\n",
    "\n",
    "This can be used to predict which type of activity the subject is doing or how effective the activity is.\n",
    "This can also be used to monitor the heart rate of people with heart related complications who worksout.\n",
    "\n",
    "If the chest temperature is getting way colder, it would mean there is a probability the heart would be struggling to pump blood through the body while excercising which make cause the subject to blackout. The software could trigger an alarm if the chest temperature goes below a certain threshold."
   ]
  },
  {
   "cell_type": "code",
   "execution_count": 46,
   "id": "c223b328",
   "metadata": {},
   "outputs": [
    {
     "data": {
      "image/png": "[encoded data removed]",
      "text/plain": [
       "<Figure size 432x288 with 1 Axes>"
      ]
     },
     "metadata": {
      "needs_background": "light"
     },
     "output_type": "display_data"
    }
   ],
   "source": [
    "# arange for creating a range of values \n",
    "# from min value of X to max value of X \n",
    "# with a difference of 0.01 between two\n",
    "# consecutive values\n",
    "X_grid = np.arange(min(X_test), max(X_test), 0.01)\n",
    "  \n",
    "# reshape for reshaping the data into \n",
    "# a len(X_grid)*1 array, i.e. to make\n",
    "# a column out of the X_grid values\n",
    "X_grid = X_grid.reshape((len(X_grid), 1)) \n",
    "  \n",
    "# scatter plot for original data\n",
    "plt.scatter(X_test, y_test, color = 'red')\n",
    "  \n",
    "# plot predicted data\n",
    "plt.plot(X_grid, regressor.predict(X_grid), color = 'blue') \n",
    "  \n",
    "# specify title\n",
    "plt.title('Heartrate to Chest Temperature. (Decision Tree Regression)') \n",
    "  \n",
    "# specify X axis label\n",
    "plt.xlabel('Chest Temperature')\n",
    "  \n",
    "# specify Y axis label\n",
    "plt.ylabel('Heart Rate')\n",
    "  \n",
    "# show the plot\n",
    "plt.show()"
   ]
  },
  {
   "cell_type": "markdown",
   "id": "62e56bc7",
   "metadata": {},
   "source": [
    "The issue with the above model could be underfitting, in order to avoid underfitting as well as overfitting, we need to check if the correct parameters are used. This can be done doing a hyper parameter Tuning."
   ]
  },
  {
   "cell_type": "markdown",
   "id": "3c3b3adb",
   "metadata": {},
   "source": [
    "### 7.1.2) Hyper parameter Tuning, With K-fold cross Validation:"
   ]
  },
  {
   "cell_type": "markdown",
   "id": "9557f9df",
   "metadata": {},
   "source": [
    "Tuning hyperparameters is done using the Grid Search method along with k-fold cross-validation.\n",
    "The equivalent Scikit-learn function used is GridSearchCV. It finds all the hyperparameter combinations for a specified k number of folds."
   ]
  },
  {
   "cell_type": "markdown",
   "id": "bd049005",
   "metadata": {},
   "source": [
    "the GridSearchCV function searches a combination and trains the model using those values along with doing k-fold cross-validation. It searches all the combinations (here 10 x 5= 50!). So, it executes 50 x k times!"
   ]
  },
  {
   "cell_type": "code",
   "execution_count": 47,
   "id": "454cfddf",
   "metadata": {},
   "outputs": [
    {
     "name": "stdout",
     "output_type": "stream",
     "text": [
      "{'max_depth': 10, 'min_samples_split': 10}\n",
      "558.5965656294751\n"
     ]
    }
   ],
   "source": [
    "from sklearn.model_selection import GridSearchCV\n",
    "\n",
    "model = DecisionTreeRegressor()\n",
    "\n",
    "gs = GridSearchCV(model,\n",
    "                  param_grid = {'max_depth': range(1, 11),\n",
    "                                'min_samples_split': range(10, 60, 10)},\n",
    "                  cv=5,\n",
    "                  n_jobs=1,\n",
    "                  scoring='neg_mean_squared_error')\n",
    "\n",
    "gs.fit(x_train, y_train)\n",
    "\n",
    "print(gs.best_params_)\n",
    "print(-gs.best_score_)"
   ]
  },
  {
   "cell_type": "markdown",
   "id": "479f2897",
   "metadata": {},
   "source": [
    "Using these values we will be able to create the a good model. It should be able to avoid both overfitting and underfitting conditions for the model.\n",
    "\n",
    "Now we need to run the decision tree regression algorithm using the tuned parameters."
   ]
  },
  {
   "cell_type": "code",
   "execution_count": 51,
   "id": "1ae9146b",
   "metadata": {},
   "outputs": [
    {
     "data": {
      "text/plain": [
       "DecisionTreeRegressor(max_depth=10, min_samples_split=10)"
      ]
     },
     "execution_count": 51,
     "metadata": {},
     "output_type": "execute_result"
    }
   ],
   "source": [
    "# import the regressor\n",
    "from sklearn.tree import DecisionTreeRegressor\n",
    "\n",
    "# create a regressor object\n",
    "regressor = DecisionTreeRegressor(max_depth = 10, min_samples_split = 10)\n",
    "\n",
    "# fit the regressor with X and Y data\n",
    "regressor.fit(x_train, y_train)"
   ]
  },
  {
   "cell_type": "code",
   "execution_count": 52,
   "id": "fa70f7e8",
   "metadata": {},
   "outputs": [],
   "source": [
    "y_pred = regressor.predict(X_test)"
   ]
  },
  {
   "cell_type": "code",
   "execution_count": 53,
   "id": "ec5cbd22",
   "metadata": {},
   "outputs": [
    {
     "data": {
      "image/png": "[encoded data removed]",
      "text/plain": [
       "<Figure size 432x288 with 1 Axes>"
      ]
     },
     "metadata": {
      "needs_background": "light"
     },
     "output_type": "display_data"
    }
   ],
   "source": [
    "# arange for creating a range of values \n",
    "# from min value of X to max value of X \n",
    "# with a difference of 0.01 between two\n",
    "# consecutive values\n",
    "X_grid = np.arange(min(X_test), max(X_test), 0.01)\n",
    "  \n",
    "# reshape for reshaping the data into \n",
    "# a len(X_grid)*1 array, i.e. to make\n",
    "# a column out of the X_grid values\n",
    "X_grid = X_grid.reshape((len(X_grid), 1)) \n",
    "  \n",
    "# scatter plot for original data\n",
    "plt.scatter(X_test, y_test, color = 'red')\n",
    "  \n",
    "# plot predicted data\n",
    "plt.plot(X_grid, regressor.predict(X_grid), color = 'blue') \n",
    "  \n",
    "# specify title\n",
    "plt.title('Heartrate to Chest temperature (Decision Tree Regression)') \n",
    "  \n",
    "# specify X axis label\n",
    "plt.xlabel('Chest Temperature')\n",
    "  \n",
    "# specify Y axis label\n",
    "plt.ylabel('Heart rate')\n",
    "  \n",
    "# show the plot\n",
    "plt.show()"
   ]
  },
  {
   "cell_type": "markdown",
   "id": "452592d3",
   "metadata": {},
   "source": [
    "The above model should be best fit for the data, since there is a complex non linear relationship between our attributes."
   ]
  },
  {
   "cell_type": "markdown",
   "id": "d0414dfc",
   "metadata": {},
   "source": [
    "## 8) SUMMARY"
   ]
  },
  {
   "cell_type": "markdown",
   "id": "100fd137",
   "metadata": {},
   "source": [
    "The analysis conducted has yielded results which would be significant to our problem statement.\n",
    "The following are my observations:\n",
    "\n",
    "1) The heart rate plays an important role in selecting the type of activity performed by the subject.\n",
    "\n",
    "2) We can also add another parameter for checking or predicting the type of activity, which would be chest Temperature of the subject.\n",
    "\n",
    "3) For activities inducing heavy heart rate, the chest temperature would be lower. A hypothesis was made and was tested to be statistically significant for the dataset provided.\n",
    "\n",
    "4) Supervised learning algorithm is to be used for model creation for this dataset. using K Nearest Neighbours i got an accuracy of 80 percent for the model.\n",
    "\n",
    "5) Decision Tree regression can be used to explore the non linear relationship between the heart rate and chest temperature attribute in the dataset. which can be used to predict the activity performed or how cumbersome of a activity the subject is performing by making use of just the chest temperature data.\n",
    "\n",
    "6) The research conducted would help in the creation of a software that could trigger an alert to the subject whenever there is an abnormal change in the chest temperature (Gets lower than a threshold value). This could be due to the heart struggling to pump blood to keep the body temperature maintained during heavy workout sessions or activities."
   ]
  },
  {
   "cell_type": "markdown",
   "id": "6b3249fe",
   "metadata": {},
   "source": [
    "### 9)  REFERENCES"
   ]
  },
  {
   "cell_type": "markdown",
   "id": "0f725cc5",
   "metadata": {},
   "source": [
    "Archive.ics.uci.edu. (2012). UCI Machine Learning Repository: PAMAP2 Physical Activity Monitoring Data Set. [online] Available at: http://archive.ics.uci.edu/ml/datasets/pamap2+physical+activity+monitoring [Accessed 27 Dec. 2022]."
   ]
  },
  {
   "cell_type": "markdown",
   "id": "4a6243ae",
   "metadata": {},
   "source": [
    "PAMAP2_Dataset: Physical Activity Monitoring. (n.d.). [ebook] Available at: http://archive.ics.uci.edu/ml/machine-learning-databases/00231/readme.pdf [Accessed 27 Dec. 2022]."
   ]
  },
  {
   "cell_type": "markdown",
   "id": "3e0098e9",
   "metadata": {},
   "source": [
    "KNN using scikitlearn. [online] Available at: https://www.datacamp.com/tutorial/k-nearest-neighbor-classification-scikit-learn\n",
    "[Accessed 28 Dec 2022]"
   ]
  },
  {
   "cell_type": "markdown",
   "id": "bebe36e7",
   "metadata": {},
   "source": [
    "Optimal K Value calculations for KNN [online] Available at: https://towardsdatascience.com/how-to-find-the-optimal-value-of-k-in-knn-35d936e554eb#:~:text=The%20optimal%20K%20value%20usually,the%20most%20favorable%20K%20value. [Accessed 28 Dec 2022]"
   ]
  },
  {
   "cell_type": "markdown",
   "id": "06b62546",
   "metadata": {},
   "source": [
    "Body temperature and Heart rate relation. [Online] Available at:https://www.hopkinsmedicine.org/health/conditions-and-diseases/exerciserelated-heat-exhaustion [Accessed 28 Dec 2022]"
   ]
  },
  {
   "cell_type": "markdown",
   "id": "d11f8157",
   "metadata": {},
   "source": [
    "Decision Tree regression. [online] Available at: https://towardsdatascience.com/train-a-regression-model-using-a-decision-tree-70012c22bcc1\n",
    "        [Acessed 2 jan 2023]"
   ]
  }
 ],
 "metadata": {
  "kernelspec": {
   "display_name": "Python 3 (ipykernel)",
   "language": "python",
   "name": "python3"
  },
  "language_info": {
   "codemirror_mode": {
    "name": "ipython",
    "version": 3
   },
   "file_extension": ".py",
   "mimetype": "text/x-python",
   "name": "python",
   "nbconvert_exporter": "python",
   "pygments_lexer": "ipython3",
   "version": "3.9.12"
  }
 },
 "nbformat": 4,
 "nbformat_minor": 5
}
